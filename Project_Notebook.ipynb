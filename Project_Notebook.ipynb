{
 "cells": [
  {
   "cell_type": "markdown",
   "metadata": {},
   "source": [
    "Olá, \n",
    "\n",
    "Meu nome é Ramon. Ao ao longo do texto farei algumas observações sobre melhorias no código. Nas partes em que não houver comentários, está tudo certo, ok? Estarei aberto a feedbacks e discussões sobre o tema.\n",
    "\n",
    "**Peço que mantenha e não altere os comentários que eu fizer por aqui para que possamos nos localizar posteriormente, ok?**\n",
    "\n",
    "Mais uma coisa, vamos utilizar um código de cores para você entender os meus feedbacks no seu notebook. Funciona assim:\n",
    "\n",
    "<div class=\"alert alert-block alert-success\">\n",
    "<b> Comentário do revisor: </b> <a class=\"tocSkip\"></a>\n",
    "\n",
    "Sucesso. Tudo foi feito corretamente.\n",
    "</div>\n",
    "\n",
    "<div class=\"alert alert-block alert-warning\">\n",
    "<b>Comentário do revisor: </b> <a class=\"tocSkip\"></a>\n",
    "\n",
    "Alerta não crítco, mas que pode ser corrigido para melhoria geral no seu código/análise\n",
    "</div>\n",
    "\n",
    "<div class=\"alert alert-block alert-danger\">\n",
    "\n",
    "<b>Comentário do revisor: </b> <a class=\"tocSkip\"></a>\n",
    "    \n",
    "Erro que precisa ser consertado, caso contrário seu projeto **não** será aceito.\n",
    "</div>\n",
    "\n",
    "Você pode me responder usando isso:\n",
    "<div class=\"alert alert-block alert-info\">\n",
    "<b>Resposta do Aluno.</b> <a class=\"tocSkip\"></a>\n",
    "</div>\n",
    "\n",
    "###\n",
    "\n",
    "<div class=\"alert alert-block alert-success\">\n",
    "<b>Comentário Geral do Revisor</b> <a class=\"tocSkip\"></a>\n",
    "\n",
    "Obrigado por enviar seu projeto. \n",
    "    \n",
    "Parabéns, você fez um bom trabalho.\n",
    "\n",
    "Como pontos fortes do projeto, destaco:\n",
    "- Código simples e eficiente (sem loop desnecessário)\n",
    "- Uso adequado dos recursos da lição\n",
    "- Investigou hipóteses\n",
    "- Bons gráficos\n",
    "- Ajustou vários modelos e calibrou hiperparãmetros\n",
    "    \n",
    "\n",
    "\n",
    "Não encontrei pontos de melhoria.\n",
    "\n",
    "Desejo sucesso na jornada. Parabéns pelo empenho.\n",
    "</div>\n",
    "\n",
    "\n"
   ]
  },
  {
   "cell_type": "markdown",
   "metadata": {},
   "source": [
    "# Projeto Sprint 9 - Aprendizado Supervisionado #"
   ]
  },
  {
   "cell_type": "markdown",
   "metadata": {},
   "source": [
    "Objetivo: Criar um modelo treinado capaz de prever, baseado no comportamento, se um cliente vai ou não deixar o banco, retornando 1 para sim e 0 para não. \n",
    "\n",
    "Principais Etapas:\n",
    "\n",
    "Análise inicial e Manipulação de Dados\n",
    "\n",
    "Avaliação e Teste de Hipóteses que podem fazer diferença na interpretação do modelo ou ajudar a definir métricas\n",
    "\n",
    "Preparação de Funcionalidades\n",
    "\n",
    "Treinamento, Teste e verificação de métricas\n",
    "\n",
    "Observação: Temos diante de nós uma tarefa de classificação, onde \"apenas\" precisamos estabelecer se clientes futuros deixarão ou não o banco. Por isso, não levaremos em consideração as métricas de regressão ensinadas no capítulo.\n"
   ]
  },
  {
   "cell_type": "markdown",
   "metadata": {},
   "source": [
    "## Importando Bibliotecas"
   ]
  },
  {
   "cell_type": "code",
   "execution_count": 1,
   "metadata": {},
   "outputs": [],
   "source": [
    "import pandas as pd\n",
    "import numpy as np\n",
    "import matplotlib.pyplot as plt\n",
    "import seaborn as sns\n",
    "import scipy.stats as stats\n",
    "from scipy.stats import ttest_ind\n",
    "from sklearn.preprocessing import OrdinalEncoder\n",
    "from sklearn.preprocessing import StandardScaler\n",
    "from sklearn.metrics import confusion_matrix, recall_score, precision_score, f1_score, roc_curve, roc_auc_score\n",
    "from sklearn.model_selection import train_test_split\n",
    "from sklearn.linear_model import LogisticRegression\n",
    "from sklearn.ensemble import RandomForestClassifier\n",
    "from sklearn.tree import DecisionTreeClassifier\n",
    "from sklearn.utils import shuffle"
   ]
  },
  {
   "cell_type": "markdown",
   "metadata": {},
   "source": [
    "## Importando Dados e Avaliando Características Básicas"
   ]
  },
  {
   "cell_type": "code",
   "execution_count": 2,
   "metadata": {},
   "outputs": [],
   "source": [
    "df = pd.read_csv('/datasets/Churn.csv')"
   ]
  },
  {
   "cell_type": "code",
   "execution_count": 3,
   "metadata": {},
   "outputs": [
    {
     "data": {
      "text/html": [
       "<div>\n",
       "<style scoped>\n",
       "    .dataframe tbody tr th:only-of-type {\n",
       "        vertical-align: middle;\n",
       "    }\n",
       "\n",
       "    .dataframe tbody tr th {\n",
       "        vertical-align: top;\n",
       "    }\n",
       "\n",
       "    .dataframe thead th {\n",
       "        text-align: right;\n",
       "    }\n",
       "</style>\n",
       "<table border=\"1\" class=\"dataframe\">\n",
       "  <thead>\n",
       "    <tr style=\"text-align: right;\">\n",
       "      <th></th>\n",
       "      <th>RowNumber</th>\n",
       "      <th>CustomerId</th>\n",
       "      <th>Surname</th>\n",
       "      <th>CreditScore</th>\n",
       "      <th>Geography</th>\n",
       "      <th>Gender</th>\n",
       "      <th>Age</th>\n",
       "      <th>Tenure</th>\n",
       "      <th>Balance</th>\n",
       "      <th>NumOfProducts</th>\n",
       "      <th>HasCrCard</th>\n",
       "      <th>IsActiveMember</th>\n",
       "      <th>EstimatedSalary</th>\n",
       "      <th>Exited</th>\n",
       "    </tr>\n",
       "  </thead>\n",
       "  <tbody>\n",
       "    <tr>\n",
       "      <th>0</th>\n",
       "      <td>1</td>\n",
       "      <td>15634602</td>\n",
       "      <td>Hargrave</td>\n",
       "      <td>619</td>\n",
       "      <td>France</td>\n",
       "      <td>Female</td>\n",
       "      <td>42</td>\n",
       "      <td>2.0</td>\n",
       "      <td>0.00</td>\n",
       "      <td>1</td>\n",
       "      <td>1</td>\n",
       "      <td>1</td>\n",
       "      <td>101348.88</td>\n",
       "      <td>1</td>\n",
       "    </tr>\n",
       "    <tr>\n",
       "      <th>1</th>\n",
       "      <td>2</td>\n",
       "      <td>15647311</td>\n",
       "      <td>Hill</td>\n",
       "      <td>608</td>\n",
       "      <td>Spain</td>\n",
       "      <td>Female</td>\n",
       "      <td>41</td>\n",
       "      <td>1.0</td>\n",
       "      <td>83807.86</td>\n",
       "      <td>1</td>\n",
       "      <td>0</td>\n",
       "      <td>1</td>\n",
       "      <td>112542.58</td>\n",
       "      <td>0</td>\n",
       "    </tr>\n",
       "    <tr>\n",
       "      <th>2</th>\n",
       "      <td>3</td>\n",
       "      <td>15619304</td>\n",
       "      <td>Onio</td>\n",
       "      <td>502</td>\n",
       "      <td>France</td>\n",
       "      <td>Female</td>\n",
       "      <td>42</td>\n",
       "      <td>8.0</td>\n",
       "      <td>159660.80</td>\n",
       "      <td>3</td>\n",
       "      <td>1</td>\n",
       "      <td>0</td>\n",
       "      <td>113931.57</td>\n",
       "      <td>1</td>\n",
       "    </tr>\n",
       "    <tr>\n",
       "      <th>3</th>\n",
       "      <td>4</td>\n",
       "      <td>15701354</td>\n",
       "      <td>Boni</td>\n",
       "      <td>699</td>\n",
       "      <td>France</td>\n",
       "      <td>Female</td>\n",
       "      <td>39</td>\n",
       "      <td>1.0</td>\n",
       "      <td>0.00</td>\n",
       "      <td>2</td>\n",
       "      <td>0</td>\n",
       "      <td>0</td>\n",
       "      <td>93826.63</td>\n",
       "      <td>0</td>\n",
       "    </tr>\n",
       "    <tr>\n",
       "      <th>4</th>\n",
       "      <td>5</td>\n",
       "      <td>15737888</td>\n",
       "      <td>Mitchell</td>\n",
       "      <td>850</td>\n",
       "      <td>Spain</td>\n",
       "      <td>Female</td>\n",
       "      <td>43</td>\n",
       "      <td>2.0</td>\n",
       "      <td>125510.82</td>\n",
       "      <td>1</td>\n",
       "      <td>1</td>\n",
       "      <td>1</td>\n",
       "      <td>79084.10</td>\n",
       "      <td>0</td>\n",
       "    </tr>\n",
       "  </tbody>\n",
       "</table>\n",
       "</div>"
      ],
      "text/plain": [
       "   RowNumber  CustomerId   Surname  CreditScore Geography  Gender  Age  \\\n",
       "0          1    15634602  Hargrave          619    France  Female   42   \n",
       "1          2    15647311      Hill          608     Spain  Female   41   \n",
       "2          3    15619304      Onio          502    France  Female   42   \n",
       "3          4    15701354      Boni          699    France  Female   39   \n",
       "4          5    15737888  Mitchell          850     Spain  Female   43   \n",
       "\n",
       "   Tenure    Balance  NumOfProducts  HasCrCard  IsActiveMember  \\\n",
       "0     2.0       0.00              1          1               1   \n",
       "1     1.0   83807.86              1          0               1   \n",
       "2     8.0  159660.80              3          1               0   \n",
       "3     1.0       0.00              2          0               0   \n",
       "4     2.0  125510.82              1          1               1   \n",
       "\n",
       "   EstimatedSalary  Exited  \n",
       "0        101348.88       1  \n",
       "1        112542.58       0  \n",
       "2        113931.57       1  \n",
       "3         93826.63       0  \n",
       "4         79084.10       0  "
      ]
     },
     "execution_count": 3,
     "metadata": {},
     "output_type": "execute_result"
    }
   ],
   "source": [
    "df.head()"
   ]
  },
  {
   "cell_type": "code",
   "execution_count": 4,
   "metadata": {},
   "outputs": [
    {
     "name": "stdout",
     "output_type": "stream",
     "text": [
      "<class 'pandas.core.frame.DataFrame'>\n",
      "RangeIndex: 10000 entries, 0 to 9999\n",
      "Data columns (total 14 columns):\n",
      " #   Column           Non-Null Count  Dtype  \n",
      "---  ------           --------------  -----  \n",
      " 0   RowNumber        10000 non-null  int64  \n",
      " 1   CustomerId       10000 non-null  int64  \n",
      " 2   Surname          10000 non-null  object \n",
      " 3   CreditScore      10000 non-null  int64  \n",
      " 4   Geography        10000 non-null  object \n",
      " 5   Gender           10000 non-null  object \n",
      " 6   Age              10000 non-null  int64  \n",
      " 7   Tenure           9091 non-null   float64\n",
      " 8   Balance          10000 non-null  float64\n",
      " 9   NumOfProducts    10000 non-null  int64  \n",
      " 10  HasCrCard        10000 non-null  int64  \n",
      " 11  IsActiveMember   10000 non-null  int64  \n",
      " 12  EstimatedSalary  10000 non-null  float64\n",
      " 13  Exited           10000 non-null  int64  \n",
      "dtypes: float64(3), int64(8), object(3)\n",
      "memory usage: 1.1+ MB\n"
     ]
    }
   ],
   "source": [
    "df.info()"
   ]
  },
  {
   "cell_type": "markdown",
   "metadata": {},
   "source": [
    "Só por chamarmos o head e o info já percebemos algumas características interessantes. Primeiro, é de se destacar que as três primeiras colunas são completamente irrelevantes para o nosso projeto. Nenhuma das três traz qualquer referência sobre comportamento de clientes, então, vamos removê-las do Dataframe. \n",
    "\n",
    "os tipos de dados estão todos corretos e não me parece necessário fazer nenhuma alteração nesse sentido (ignorando tenure, por enquanto). Vale destacar que GEografia e Gênero são do tipo objeto e podem causar problemas para os modelos treinados. Porém, vamos trabalhar em cima disso apenas no momento de Prepração de Características.\n",
    "\n",
    "Da mesma forma, percebemos que pode haver um problema de escalabilidade entre as colunas Age, Balance e EstimatedSalary. Nós entendemos bem o porque das possíveis diferenças entre esses valores pelos contextos de cada uma, mas nossos modelos podem acabar sendo negativamente impactados. Aqui, poderíamos tirar médias ou medianas e binarizar os valores, podemos alterar a escalabilidade e também podemos alterar a importância de cada uma das tabelas na hora de treianr os robôs. Voltaremos nisso mais tarde. \n",
    "\n",
    "A grande questão que o método info nos revela são os dados faltantes na coluna tenure. Vamos investigar o que está acontecendo."
   ]
  },
  {
   "cell_type": "markdown",
   "metadata": {},
   "source": [
    "### Manipulação de Dados"
   ]
  },
  {
   "cell_type": "code",
   "execution_count": 5,
   "metadata": {},
   "outputs": [
    {
     "data": {
      "text/html": [
       "<div>\n",
       "<style scoped>\n",
       "    .dataframe tbody tr th:only-of-type {\n",
       "        vertical-align: middle;\n",
       "    }\n",
       "\n",
       "    .dataframe tbody tr th {\n",
       "        vertical-align: top;\n",
       "    }\n",
       "\n",
       "    .dataframe thead th {\n",
       "        text-align: right;\n",
       "    }\n",
       "</style>\n",
       "<table border=\"1\" class=\"dataframe\">\n",
       "  <thead>\n",
       "    <tr style=\"text-align: right;\">\n",
       "      <th></th>\n",
       "      <th>CreditScore</th>\n",
       "      <th>Geography</th>\n",
       "      <th>Gender</th>\n",
       "      <th>Age</th>\n",
       "      <th>Tenure</th>\n",
       "      <th>Balance</th>\n",
       "      <th>NumOfProducts</th>\n",
       "      <th>HasCrCard</th>\n",
       "      <th>IsActiveMember</th>\n",
       "      <th>EstimatedSalary</th>\n",
       "      <th>Exited</th>\n",
       "    </tr>\n",
       "  </thead>\n",
       "  <tbody>\n",
       "    <tr>\n",
       "      <th>0</th>\n",
       "      <td>619</td>\n",
       "      <td>France</td>\n",
       "      <td>Female</td>\n",
       "      <td>42</td>\n",
       "      <td>2.0</td>\n",
       "      <td>0.00</td>\n",
       "      <td>1</td>\n",
       "      <td>1</td>\n",
       "      <td>1</td>\n",
       "      <td>101348.88</td>\n",
       "      <td>1</td>\n",
       "    </tr>\n",
       "    <tr>\n",
       "      <th>1</th>\n",
       "      <td>608</td>\n",
       "      <td>Spain</td>\n",
       "      <td>Female</td>\n",
       "      <td>41</td>\n",
       "      <td>1.0</td>\n",
       "      <td>83807.86</td>\n",
       "      <td>1</td>\n",
       "      <td>0</td>\n",
       "      <td>1</td>\n",
       "      <td>112542.58</td>\n",
       "      <td>0</td>\n",
       "    </tr>\n",
       "    <tr>\n",
       "      <th>2</th>\n",
       "      <td>502</td>\n",
       "      <td>France</td>\n",
       "      <td>Female</td>\n",
       "      <td>42</td>\n",
       "      <td>8.0</td>\n",
       "      <td>159660.80</td>\n",
       "      <td>3</td>\n",
       "      <td>1</td>\n",
       "      <td>0</td>\n",
       "      <td>113931.57</td>\n",
       "      <td>1</td>\n",
       "    </tr>\n",
       "    <tr>\n",
       "      <th>3</th>\n",
       "      <td>699</td>\n",
       "      <td>France</td>\n",
       "      <td>Female</td>\n",
       "      <td>39</td>\n",
       "      <td>1.0</td>\n",
       "      <td>0.00</td>\n",
       "      <td>2</td>\n",
       "      <td>0</td>\n",
       "      <td>0</td>\n",
       "      <td>93826.63</td>\n",
       "      <td>0</td>\n",
       "    </tr>\n",
       "    <tr>\n",
       "      <th>4</th>\n",
       "      <td>850</td>\n",
       "      <td>Spain</td>\n",
       "      <td>Female</td>\n",
       "      <td>43</td>\n",
       "      <td>2.0</td>\n",
       "      <td>125510.82</td>\n",
       "      <td>1</td>\n",
       "      <td>1</td>\n",
       "      <td>1</td>\n",
       "      <td>79084.10</td>\n",
       "      <td>0</td>\n",
       "    </tr>\n",
       "  </tbody>\n",
       "</table>\n",
       "</div>"
      ],
      "text/plain": [
       "   CreditScore Geography  Gender  Age  Tenure    Balance  NumOfProducts  \\\n",
       "0          619    France  Female   42     2.0       0.00              1   \n",
       "1          608     Spain  Female   41     1.0   83807.86              1   \n",
       "2          502    France  Female   42     8.0  159660.80              3   \n",
       "3          699    France  Female   39     1.0       0.00              2   \n",
       "4          850     Spain  Female   43     2.0  125510.82              1   \n",
       "\n",
       "   HasCrCard  IsActiveMember  EstimatedSalary  Exited  \n",
       "0          1               1        101348.88       1  \n",
       "1          0               1        112542.58       0  \n",
       "2          1               0        113931.57       1  \n",
       "3          0               0         93826.63       0  \n",
       "4          1               1         79084.10       0  "
      ]
     },
     "execution_count": 5,
     "metadata": {},
     "output_type": "execute_result"
    }
   ],
   "source": [
    "df = df.drop(columns=['RowNumber', 'CustomerId', 'Surname'])\n",
    "df.head()"
   ]
  },
  {
   "cell_type": "markdown",
   "metadata": {},
   "source": [
    "Aqui, apenas removemos as três primeiras colunas como mencionado que faríamos. "
   ]
  },
  {
   "cell_type": "markdown",
   "metadata": {},
   "source": [
    "#### Resolvendo o que fazer com 'Tenure'"
   ]
  },
  {
   "cell_type": "markdown",
   "metadata": {},
   "source": [
    "A descrição dos Dados nos indica que 'Tenure' se refere, em outras palavras, ao tempo de depósito fixo feito por clientes do banco. Em um primeiro momento, é difícil interpretar se isso se refere ao tempo de depósito já percorrido (e reflete lealdade) ou se isso reflete o tempo ainda necessário para que o dinheiro possa ser sacado. Em ambos os casos, serão reveladas métricas de comportamento importantes. Felizmente avaliar a correlação entre ambas as colunas é uma forma de, não só testar a importância dessa coluna como um todo, como nos ajuda a responder a pergunta. Isso, porque se clientes com maior tenure saem menos, temos um forte indício de lealdade. Se clientes com maior tenure saem mais temos um indício de que ainda seria necessário muito tempo para que esses clientes tenham acesso ao dinheiro corrigido, o que torna o valor depositado e mantido pelo banco bem menos significativo. Vamos testar essa correlação:"
   ]
  },
  {
   "cell_type": "code",
   "execution_count": 6,
   "metadata": {},
   "outputs": [
    {
     "name": "stdout",
     "output_type": "stream",
     "text": [
      "Correlação Tenure x Exited: -0.02\n"
     ]
    }
   ],
   "source": [
    "correlation = df['Tenure'].corr(df['Exited'])\n",
    "print(f'Correlação Tenure x Exited: {correlation:.2f}')"
   ]
  },
  {
   "cell_type": "markdown",
   "metadata": {},
   "source": [
    "Aqui, tivemos uma correlação que não nos ajuda a responder a resposta anterior, mas ainda assim, Ternure pode ser importante para os modelos quando avaliada em conjunto com outras colunas. Além disso, faz sentido pensar que: se tenure se refere a uma modalidade de investimento, os valores faltantes são, na verdade, 0, valores legítimos que apenas referenciam clientes que não praticam essa modalidade. Seguindo por essa linha, substituiremos valores ausentes por 0 na tabela e seguiremos em frente. Eu esperava uma correlação alta, mas fazer o que... "
   ]
  },
  {
   "cell_type": "code",
   "execution_count": 7,
   "metadata": {},
   "outputs": [
    {
     "name": "stdout",
     "output_type": "stream",
     "text": [
      "0\n"
     ]
    }
   ],
   "source": [
    "df['Tenure'] = df['Tenure'].fillna(0)\n",
    "print(df['Tenure'].isnull().sum())"
   ]
  },
  {
   "cell_type": "code",
   "execution_count": 8,
   "metadata": {},
   "outputs": [
    {
     "name": "stdout",
     "output_type": "stream",
     "text": [
      "<class 'pandas.core.frame.DataFrame'>\n",
      "RangeIndex: 10000 entries, 0 to 9999\n",
      "Data columns (total 11 columns):\n",
      " #   Column           Non-Null Count  Dtype  \n",
      "---  ------           --------------  -----  \n",
      " 0   CreditScore      10000 non-null  int64  \n",
      " 1   Geography        10000 non-null  object \n",
      " 2   Gender           10000 non-null  object \n",
      " 3   Age              10000 non-null  int64  \n",
      " 4   Tenure           10000 non-null  float64\n",
      " 5   Balance          10000 non-null  float64\n",
      " 6   NumOfProducts    10000 non-null  int64  \n",
      " 7   HasCrCard        10000 non-null  int64  \n",
      " 8   IsActiveMember   10000 non-null  int64  \n",
      " 9   EstimatedSalary  10000 non-null  float64\n",
      " 10  Exited           10000 non-null  int64  \n",
      "dtypes: float64(3), int64(6), object(2)\n",
      "memory usage: 859.5+ KB\n"
     ]
    }
   ],
   "source": [
    "df.info()"
   ]
  },
  {
   "cell_type": "code",
   "execution_count": 9,
   "metadata": {},
   "outputs": [
    {
     "name": "stdout",
     "output_type": "stream",
     "text": [
      "True\n"
     ]
    }
   ],
   "source": [
    "inteiro = (df['Tenure'] % 1 == 0).all()\n",
    "print(inteiro)"
   ]
  },
  {
   "cell_type": "code",
   "execution_count": 10,
   "metadata": {},
   "outputs": [
    {
     "name": "stdout",
     "output_type": "stream",
     "text": [
      "int64\n"
     ]
    }
   ],
   "source": [
    "df['Tenure'] = df['Tenure'].astype(int)\n",
    "print(df['Tenure'].dtypes)"
   ]
  },
  {
   "cell_type": "markdown",
   "metadata": {},
   "source": [
    "Aqui, depois que tiramos os valores ausentes, ficamos com uma tabela no tipo float, o que era desnecessário, já que todos os valores tinham 0 na casa decimal. COnvertemos o tipo de dado para ficar inteiro. E com isso, terminamos essa etapa. Vamos seguir e focar em algumas análises que podem nos ajudar a entender melhor o comportamento de nossos modelos. "
   ]
  },
  {
   "cell_type": "markdown",
   "metadata": {},
   "source": [
    "## Trabalhando com Dados e Testando Hipóteses"
   ]
  },
  {
   "cell_type": "markdown",
   "metadata": {},
   "source": [
    "Existem inúmeras coisas que poderíamos avaliar ou testar nessa etapa. Vamos focar em algumas das principais, que vão nos ajudar a entender melhor nossos futuros modelos."
   ]
  },
  {
   "cell_type": "markdown",
   "metadata": {},
   "source": [
    "### Quantidade e Proporção de Clientes que Deixaram o Banco"
   ]
  },
  {
   "cell_type": "code",
   "execution_count": 11,
   "metadata": {},
   "outputs": [
    {
     "name": "stdout",
     "output_type": "stream",
     "text": [
      "Distribuição de Churn\n",
      "0    7963\n",
      "1    2037\n",
      "Name: Exited, dtype: int64\n",
      "\n",
      "Proporção de Churn (%)\n",
      "0    79.63\n",
      "1    20.37\n",
      "Name: Exited, dtype: float64\n"
     ]
    }
   ],
   "source": [
    "churn_dist = df['Exited'].value_counts()\n",
    "churn_prop = df['Exited'].value_counts(normalize=True) * 100\n",
    "\n",
    "print('Distribuição de Churn')\n",
    "print(churn_dist)\n",
    "print('\\nProporção de Churn (%)')\n",
    "print(churn_prop)"
   ]
  },
  {
   "cell_type": "code",
   "execution_count": 12,
   "metadata": {},
   "outputs": [
    {
     "data": {
      "image/png": "[encoded data removed]",
      "text/plain": [
       "<Figure size 800x600 with 1 Axes>"
      ]
     },
     "metadata": {},
     "output_type": "display_data"
    }
   ],
   "source": [
    "plt.figure(figsize=(8, 6))\n",
    "churn_dist.plot(kind='bar', color=['skyblue', 'salmon'], alpha=0.8)\n",
    "plt.title('Distribuição de Churn', fontsize=16)\n",
    "plt.xlabel('Churn (0 = Não, 1 = Sim)', fontsize=14)\n",
    "plt.ylabel('Número de Clientes', fontsize=14)\n",
    "plt.xticks(rotation=0, fontsize=12)\n",
    "plt.show()"
   ]
  },
  {
   "cell_type": "code",
   "execution_count": 13,
   "metadata": {},
   "outputs": [
    {
     "data": {
      "image/png": "[encoded data removed]",
      "text/plain": [
       "<Figure size 800x800 with 1 Axes>"
      ]
     },
     "metadata": {},
     "output_type": "display_data"
    }
   ],
   "source": [
    "plt.figure(figsize=(8, 8))\n",
    "churn_prop.plot(kind='pie', autopct='%1.1f%%', startangle=90, colors=['skyblue', 'salmon'], labels=['Ficaram', 'Saíram'])\n",
    "plt.title('Proporção de Churn', fontsize=16)\n",
    "plt.ylabel('')\n",
    "plt.show()"
   ]
  },
  {
   "cell_type": "markdown",
   "metadata": {},
   "source": [
    "Tanto o grafico de distribuição e o de proporção nos revelam algo com o qual temos que tmoar muito cuidado. O nosso arquivo de dados tem uma amostragem bem desequilibrada. Quando a hora chegar, teremos de pensar na moelhor forma de tratar esse desequilíbrio, pra que ele não impacte na capacidade de previsão do modelo."
   ]
  },
  {
   "cell_type": "markdown",
   "metadata": {},
   "source": [
    "### Testando a Correlação entre Variáveis"
   ]
  },
  {
   "cell_type": "markdown",
   "metadata": {},
   "source": [
    "Vamos verificar a correlação de algumas variáveis com outras. Isso pode nos ajudar no momento de definir pesos ou o uso de outras técnicas de preparação de dados, como coficação ordinal, etc."
   ]
  },
  {
   "cell_type": "markdown",
   "metadata": {},
   "source": [
    "#### 'Number of Prducts' e 'Exited'"
   ]
  },
  {
   "cell_type": "code",
   "execution_count": 14,
   "metadata": {},
   "outputs": [
    {
     "name": "stdout",
     "output_type": "stream",
     "text": [
      "-0.04781986494944055\n"
     ]
    }
   ],
   "source": [
    "correlation = df['NumOfProducts'].corr(df['Exited'])\n",
    "print(correlation)"
   ]
  },
  {
   "cell_type": "markdown",
   "metadata": {},
   "source": [
    "Essa correlaçaõ era outra que eu esperava que fosse mais alta. Imaginava que um número de produtos maior levaria a uma taxa de churn menor, porque haveria mais dependência desses clientes em relação ao banco. Essa tendência até existe, mas de forma bem leve. "
   ]
  },
  {
   "cell_type": "markdown",
   "metadata": {},
   "source": [
    "#### 'CreditScore' e 'Exited'"
   ]
  },
  {
   "cell_type": "code",
   "execution_count": 15,
   "metadata": {},
   "outputs": [
    {
     "name": "stdout",
     "output_type": "stream",
     "text": [
      "-0.027093539754657746\n"
     ]
    }
   ],
   "source": [
    "correlation = df['CreditScore'].corr(df['Exited'])\n",
    "print(correlation)"
   ]
  },
  {
   "cell_type": "markdown",
   "metadata": {},
   "source": [
    "Outra correlação praticamente insignificante. Clientes com linhas créditos maiores tendem a sair ligeiramente menos do banco, mas nada tão importante. Para acelerar o processo, já que não há correlação significativa com duas das colunas que eu julgava mais importantes, vamos testar todas as correlações de uma vez."
   ]
  },
  {
   "cell_type": "markdown",
   "metadata": {},
   "source": [
    "#### TEstando TOdas as Correlações"
   ]
  },
  {
   "cell_type": "code",
   "execution_count": 16,
   "metadata": {},
   "outputs": [
    {
     "name": "stdout",
     "output_type": "stream",
     "text": [
      "Exited             1.000000\n",
      "Age                0.285323\n",
      "Balance            0.118533\n",
      "EstimatedSalary    0.012097\n",
      "HasCrCard         -0.007138\n",
      "Tenure            -0.013319\n",
      "CreditScore       -0.027094\n",
      "NumOfProducts     -0.047820\n",
      "IsActiveMember    -0.156128\n",
      "Name: Exited, dtype: float64\n"
     ]
    }
   ],
   "source": [
    "correlation_matrix = df.corr()\n",
    "correlations_exited = correlation_matrix['Exited'].sort_values(ascending=False)\n",
    "print(correlations_exited)"
   ]
  },
  {
   "cell_type": "markdown",
   "metadata": {},
   "source": [
    "As principais coisas que somos capazes de avaliar é que clientes mais velhos tem uma tendência maior de sair. Essa tendência também se repete para quem tem saldos mais altos. Em contrapartida, ser um membro ativo indica uma tendência comportamental de permanência, o que faz bastante sentido. Assim, perceboms que nenhuma coluna tem grande impacto individual. A principio, o resultado indica que não há necessidade de atribuirmos pesos diferentes para as colunas da tabela de dados. "
   ]
  },
  {
   "cell_type": "markdown",
   "metadata": {},
   "source": [
    "### Testando a Distribuição de CHurn nas Variáveis Contínuas"
   ]
  },
  {
   "cell_type": "markdown",
   "metadata": {},
   "source": [
    "Aqui, apesar de identificarmos que nenhuma coluna tem grande correlação com Exited, é importante verificar se encontramos certos padrões específicos ou características de clientes que levam a maior saída ou maior permanência. Vamos criar alguns gráficos para facilitar a visualização."
   ]
  },
  {
   "cell_type": "code",
   "execution_count": 17,
   "metadata": {},
   "outputs": [
    {
     "data": {
      "image/png": "[encoded data removed]",
      "text/plain": [
       "<Figure size 1000x600 with 1 Axes>"
      ]
     },
     "metadata": {},
     "output_type": "display_data"
    },
    {
     "data": {
      "image/png": "[encoded data removed]",
      "text/plain": [
       "<Figure size 1000x600 with 1 Axes>"
      ]
     },
     "metadata": {},
     "output_type": "display_data"
    },
    {
     "data": {
      "image/png": "[encoded data removed]",
      "text/plain": [
       "<Figure size 1000x600 with 1 Axes>"
      ]
     },
     "metadata": {},
     "output_type": "display_data"
    }
   ],
   "source": [
    "continuous_vars = ['Age', 'CreditScore', 'Balance']\n",
    "\n",
    "for var in continuous_vars:\n",
    "    plt.figure(figsize=(10, 6))\n",
    "    for exited in [0, 1]:\n",
    "        subset = df[df['Exited'] == exited]\n",
    "        plt.hist(subset[var], bins=30, alpha=0.6, label=f'Exited={exited}')\n",
    "    plt.title(f'Distribuição de {var} por Exited', fontsize=16)\n",
    "    plt.xlabel(var, fontsize=14)\n",
    "    plt.ylabel('Frequência', fontsize=14)\n",
    "    plt.legend(fontsize=12)\n",
    "    plt.show()"
   ]
  },
  {
   "cell_type": "markdown",
   "metadata": {},
   "source": [
    "Aqui temos algumas observações. Para o primeiro gráfico, que nos mostra a distribuição de permanência e saída de clientes por idade, percebemos que há o maior pico de saída no começo dos 40, mesmo ponto em que há uma queda drástica no número de clientes que ficam, mesmo que esse número ainda seja muito maior do que o número de clientes que saem. Mas é a partir dos 40 que percebemos a constante queda na quantiadade de permanências, até que, no início dos 50, o valor de exited supera o valor de clientes que ficam. A quantidade de clientes que permanece no banco após os 50 anos é drasticamente baixa se comparada com a quantidade total de clientes. Dependendo dos resultados que obtivermos com os modelos, pode valer dividir os clientes em classes de idade. Avaliaremos isso depois. \n",
    "\n",
    "Já a distribuição de CreditScore por Exited mostra que as duas classes têm comportamentos muito parecidos. Isso porque a quantidade de CHurn cresce a partir de 500, atinge um pico em 600 e torna a cair até valores bem baixos na casa dos 800 pontos. Mas esse é exatamente o mesmo comportamento apresentado pelos clientes que ficam. Esse resultado pode ser atribuído ao fato que praticaemente todos os clientes flutuam entre 600 e 800 pontso de crédito no banco. Não me faz sentido fazer qualquer alteração com relação a essa coluna.\n",
    "\n",
    "Por fim, temos Balance por Exited, que, assim como em Credit Score, mostrou um comportamento muito similar para as duas classes de clientes. É interessante perceber que muitos clientes com nenhum ou pouco salda na conta permanecem no banco. Fora isso, o pico para ambos os grupos é atingido entre 100 e 150 mil de balanõ. Mas isso provavelmente ocorre por haver um crescimento geral no número de clientes com esses saldos. "
   ]
  },
  {
   "cell_type": "code",
   "execution_count": 18,
   "metadata": {},
   "outputs": [
    {
     "data": {
      "image/png": "[encoded data removed]",
      "text/plain": [
       "<Figure size 800x600 with 1 Axes>"
      ]
     },
     "metadata": {},
     "output_type": "display_data"
    },
    {
     "data": {
      "image/png": "[encoded data removed]",
      "text/plain": [
       "<Figure size 800x600 with 1 Axes>"
      ]
     },
     "metadata": {},
     "output_type": "display_data"
    },
    {
     "data": {
      "image/png": "[encoded data removed]",
      "text/plain": [
       "<Figure size 800x600 with 1 Axes>"
      ]
     },
     "metadata": {},
     "output_type": "display_data"
    }
   ],
   "source": [
    "for var in continuous_vars:\n",
    "    plt.figure(figsize=(8, 6))\n",
    "    sns.boxplot(data=df, x='Exited', y=var, palette=['skyblue', 'salmon'])\n",
    "    plt.title(f'Boxplot de {var} por Exited', fontsize=16)\n",
    "    plt.xlabel('Exited (0 = Não, 1 = Sim)', fontsize=14)\n",
    "    plt.ylabel(var, fontsize=14)\n",
    "    plt.show()"
   ]
  },
  {
   "cell_type": "markdown",
   "metadata": {},
   "source": [
    "O boxplot de age por exited confirma a tendência do banco de manter clientes mais jovens e confirma a tendência de deixar o banco na faixa dos 40, 50 anos. Mas ele também também nos indica uma grande quantidade de outliers. Isso pode ser um problema para modelos de regressão logísitica, que são mais afetados por isso.\n",
    "\n",
    "O  boxplot de credit score reflete bem o comportamento muito parecido de clientes tanto para 1 quanto para 0 de churned. Mas ele também nos apresenta alguns outliers de clientes com o crédito muito baixo e que deixam o banco. Deixando de lado esse impacto de outliers, é de se imaginar que essa varíavel terá menos utilidade para os modelos, porque a semeçhança de comportamento não ajuda nenhum deles a indicar padrões que possam fazer diferenças nas suas previsões. \n",
    "\n",
    "Para Balance, já tornamos a perceber certa diferença no comportamento. CLientes com saldos mais baixos tendem a ficar no banco e clientes com saldos próximos e superiores a 50k começam a sair. Essa variável terá mais importância, visto que apresenta algumas diferenças interessantes. Não há outliers a se preocupar, oque ajudará a Regressão logística."
   ]
  },
  {
   "cell_type": "markdown",
   "metadata": {},
   "source": [
    "### Países e Seus Impactos"
   ]
  },
  {
   "cell_type": "markdown",
   "metadata": {},
   "source": [
    "Quero testar se o país onde mora um cliente pode ter um impacto significativo no seu churn, porque, quando transformarmos essa variável categórica em numérica, podemos acabar gerando umaa alta correlação que pode impactar os modelos. Vamos verificar."
   ]
  },
  {
   "cell_type": "code",
   "execution_count": 19,
   "metadata": {},
   "outputs": [
    {
     "name": "stdout",
     "output_type": "stream",
     "text": [
      "France     5014\n",
      "Germany    2509\n",
      "Spain      2477\n",
      "Name: Geography, dtype: int64\n"
     ]
    }
   ],
   "source": [
    "countries = df['Geography'].value_counts()\n",
    "print(countries)"
   ]
  },
  {
   "cell_type": "code",
   "execution_count": 20,
   "metadata": {},
   "outputs": [
    {
     "data": {
      "image/png": "[encoded data removed]",
      "text/plain": [
       "<Figure size 800x600 with 1 Axes>"
      ]
     },
     "metadata": {},
     "output_type": "display_data"
    }
   ],
   "source": [
    "churn_by_country = df.groupby('Geography')['Exited'].sum()\n",
    "\n",
    "plt.figure(figsize=(8, 6))\n",
    "churn_by_country.plot(kind='bar', color=['skyblue', 'salmon', 'lightgreen'], alpha=0.8)\n",
    "plt.title('Quantidade de Churn por País', fontsize=16)\n",
    "plt.xlabel('País', fontsize=14)\n",
    "plt.ylabel('Quantidade de Churn', fontsize=14)\n",
    "plt.xticks(rotation=0, fontsize=12)\n",
    "plt.grid(axis='y', linestyle='--', alpha=0.7)\n",
    "plt.show()"
   ]
  },
  {
   "cell_type": "markdown",
   "metadata": {},
   "source": [
    "Minha preocupação era de que houvesse algum país com um churn muito mais alto, a ponto de induzir os modelos a a dar peso demais à coluna depois que a codificação one-hot fosse aplicada e os modelos treinados. Isso não parece ser o caso. Temos algumas diferenças, como a quantidade de churns menor na Espanha, mas os valores não serão problemáticos."
   ]
  },
  {
   "cell_type": "markdown",
   "metadata": {},
   "source": [
    "### Diferenças por Gênero"
   ]
  },
  {
   "cell_type": "markdown",
   "metadata": {},
   "source": [
    "Vamos verificar se o gênenro tem impacto no churn dos clientes também."
   ]
  },
  {
   "cell_type": "code",
   "execution_count": 21,
   "metadata": {},
   "outputs": [
    {
     "name": "stdout",
     "output_type": "stream",
     "text": [
      "Male      5457\n",
      "Female    4543\n",
      "Name: Gender, dtype: int64\n"
     ]
    }
   ],
   "source": [
    "genre = df['Gender'].value_counts()\n",
    "print(genre)"
   ]
  },
  {
   "cell_type": "code",
   "execution_count": 22,
   "metadata": {},
   "outputs": [
    {
     "data": {
      "image/png": "[encoded data removed]",
      "text/plain": [
       "<Figure size 800x600 with 1 Axes>"
      ]
     },
     "metadata": {},
     "output_type": "display_data"
    }
   ],
   "source": [
    "churn_genre = df.groupby('Gender')['Exited'].sum()\n",
    "\n",
    "plt.figure(figsize=(8, 6))\n",
    "churn_genre.plot(kind='bar', color=['skyblue', 'salmon'], alpha=0.8)\n",
    "plt.title('Quantidade de Churn por Genero', fontsize=16)\n",
    "plt.xlabel('Genero', fontsize=14)\n",
    "plt.ylabel('Quantidade de Churn', fontsize=14)\n",
    "plt.xticks(rotation=0, fontsize=12)\n",
    "plt.grid(axis='y', linestyle='--', alpha=0.7)\n",
    "plt.show()"
   ]
  },
  {
   "cell_type": "code",
   "execution_count": 23,
   "metadata": {},
   "outputs": [
    {
     "name": "stdout",
     "output_type": "stream",
     "text": [
      "Gender\n",
      "Female    25.071539\n",
      "Male      16.455928\n",
      "Name: Exited, dtype: float64\n"
     ]
    }
   ],
   "source": [
    "churn_proportion = df.groupby('Gender')['Exited'].mean() * 100\n",
    "print(churn_proportion)"
   ]
  },
  {
   "cell_type": "markdown",
   "metadata": {},
   "source": [
    "Percebemos que, memsmo que sejam minoria, as mulhers tem uma quantidade maior de churn do que os homens. Essa característica aumaneta a importância da variável, mas a diferença não parece grande o suficiente para precisar de mais atenção. Seguiremos em frente."
   ]
  },
  {
   "cell_type": "markdown",
   "metadata": {},
   "source": [
    "## Testando Hipóteses"
   ]
  },
  {
   "cell_type": "markdown",
   "metadata": {},
   "source": [
    "Para essa etapa, decidi testar duas hipóteses. A primeira é se clientes ativos tem menor churn. A segunda é se clientes com maior números de produtos tem menor churn. Assim, para a primeira hipótese, a hipótese nula é: Clientes ativos nãõ tem menor churn (ou tem maior churn). A Alternativa é a confirmação da hipótese. Para a segunda hipótese, a hipótese nula é Clientes com mais produtos bancários não têm menor churn. A alternativa é a confirmação da própria hipótese."
   ]
  },
  {
   "cell_type": "markdown",
   "metadata": {},
   "source": [
    "### Primeira Hipótese"
   ]
  },
  {
   "cell_type": "code",
   "execution_count": 24,
   "metadata": {},
   "outputs": [
    {
     "name": "stdout",
     "output_type": "stream",
     "text": [
      "Estatística do Teste t: -15.6945\n",
      "P-Valor: 0.0000\n",
      "Rejeitamos a hipótese nula. Clientes ativos têm menor churn.\n"
     ]
    }
   ],
   "source": [
    "active_churn = df[df['IsActiveMember'] == 1]['Exited']\n",
    "inactive_churn = df[df['IsActiveMember'] == 0]['Exited']\n",
    "\n",
    "stat, p_value = ttest_ind(active_churn, inactive_churn, alternative='less', equal_var=False)\n",
    "\n",
    "print(f\"Estatística do Teste t: {stat:.4f}\")\n",
    "print(f\"P-Valor: {p_value:.4f}\")\n",
    "\n",
    "alpha = 0.05\n",
    "if p_value < alpha:\n",
    "    print(\"Rejeitamos a hipótese nula. Clientes ativos têm menor churn.\")\n",
    "else:\n",
    "    print(\"Falha em rejeitar a hipótese nula. Não há evidência suficiente de que clientes ativos têm menor churn.\")"
   ]
  },
  {
   "cell_type": "markdown",
   "metadata": {},
   "source": [
    "Aqui, confirmamos estatísticamente que clientes ativos têm um menor churn, destacando a importância que a \"atividade\" do cliente dentro do banco terá para as predições."
   ]
  },
  {
   "cell_type": "markdown",
   "metadata": {},
   "source": [
    "### Segunda Hipótese"
   ]
  },
  {
   "cell_type": "code",
   "execution_count": 25,
   "metadata": {},
   "outputs": [
    {
     "name": "stdout",
     "output_type": "stream",
     "text": [
      "Estatística do Teste t: -18.9608\n",
      "P-Valor: 0.0000\n",
      "Rejeitamos a hipótese nula. Clientes com mais produtos bancários têm menor churn.\n"
     ]
    }
   ],
   "source": [
    "more_products_churn = df[df['NumOfProducts'] > 1]['Exited']\n",
    "less_products_churn = df[df['NumOfProducts'] <= 1]['Exited']\n",
    "\n",
    "stat, p_value = ttest_ind(more_products_churn, less_products_churn, alternative='less', equal_var=False)\n",
    "\n",
    "print(f\"Estatística do Teste t: {stat:.4f}\")\n",
    "print(f\"P-Valor: {p_value:.4f}\")\n",
    "\n",
    "alpha = 0.05\n",
    "if p_value < alpha:\n",
    "    print(\"Rejeitamos a hipótese nula. Clientes com mais produtos bancários têm menor churn.\")\n",
    "else:\n",
    "    print(\"Falha em rejeitar a hipótese nula. Não há evidência suficiente de que clientes com mais produtos bancários têm menor churn.\")\n"
   ]
  },
  {
   "cell_type": "markdown",
   "metadata": {},
   "source": [
    "Aqui, confirmamos, mais uma vez estatítiscamente, que a quantiade de produtos produtos é um fator que ajuda a manter os clientes no banco. Neste passo, finalizamos a parte de Análise de dados e vamos começar a trabaçhar em cima das métricas e dos modelos."
   ]
  },
  {
   "cell_type": "markdown",
   "metadata": {},
   "source": [
    "## Preparação de Características"
   ]
  },
  {
   "cell_type": "markdown",
   "metadata": {},
   "source": [
    "Finalmente entramos no conteúdo trabalhado nesse sprint. Chegou a hora de começarmos a preparar o terreno para os modelos treinados. Vamos aplicar a codificação One-hot em todas as colunas categóricas e fugir das armadilhas das dummies. Já para codificação ordinal, a única coluna que poderia se beneficar é NumberofProducts, mas a correlação da coluna com Exited foi muito baixa e, na minha visão, estaríamos adicionando complexidade para obter diferenças insignificantes nos resultados. Quando o assunto é a escalabilidade, a melhor forma de determinar o que seria melhor é testar os modelos com e sem escalabilidade, então é o que faremos.\n",
    "\n",
    "Nós temos um grande desequilíbrio entre Exited = 0 e Exited = 1 e esse é o principal ponto do trabalho nessa etapa, mas, como pedido no projeto, vamos ignorar esse desequilíbrio para o primeiro treinamento dos modelos. Com isso estabelecido, vamos começar."
   ]
  },
  {
   "cell_type": "markdown",
   "metadata": {},
   "source": [
    "### Codificação One-Hot e Armadilha das Dummies"
   ]
  },
  {
   "cell_type": "code",
   "execution_count": 26,
   "metadata": {},
   "outputs": [],
   "source": [
    "geo_dummy = pd.get_dummies(df['Geography'], drop_first=True)\n",
    "gen_dummy = pd.get_dummies(df['Gender'], drop_first=True)\n",
    "\n",
    "df = pd.concat([df, geo_dummy, gen_dummy], axis = 1)\n",
    "\n",
    "df.drop(['Geography', 'Gender'], axis = 1, inplace=True)"
   ]
  },
  {
   "cell_type": "markdown",
   "metadata": {},
   "source": [
    "### Escalabilidade"
   ]
  },
  {
   "cell_type": "markdown",
   "metadata": {},
   "source": [
    "Aqui, vamos fazer um primeiro teste para avaliar o impacto da escalabilidade nos modelos. Para isso, vamos treinar os modelos com e sem escalabilidade."
   ]
  },
  {
   "cell_type": "markdown",
   "metadata": {},
   "source": [
    "#### Dividindo os Dados"
   ]
  },
  {
   "cell_type": "code",
   "execution_count": 27,
   "metadata": {},
   "outputs": [],
   "source": [
    "features = df.drop('Exited', axis=1)\n",
    "target = df['Exited']\n",
    "\n",
    "features_train_valid, features_test, target_train_valid, target_test = train_test_split(\n",
    "    features, target, test_size=0.2, random_state=42, stratify=target)\n",
    "\n",
    "features_train, features_valid, target_train, target_valid = train_test_split(\n",
    "    features_train_valid, target_train_valid, test_size=0.25, random_state=42, stratify=target_train_valid)"
   ]
  },
  {
   "cell_type": "code",
   "execution_count": 28,
   "metadata": {},
   "outputs": [
    {
     "name": "stdout",
     "output_type": "stream",
     "text": [
      "Conjunto de Treinamento: 6000 linhas\n",
      "Conjunto de Validação: 2000 linhas\n",
      "Conjunto de Teste: 2000 linhas\n"
     ]
    }
   ],
   "source": [
    "print(f\"Conjunto de Treinamento: {len(features_train)} linhas\")\n",
    "print(f\"Conjunto de Validação: {len(features_valid)} linhas\")\n",
    "print(f\"Conjunto de Teste: {len(features_test)} linhas\")"
   ]
  },
  {
   "cell_type": "markdown",
   "metadata": {},
   "source": [
    "Aqui, fizemos a divisão de dados em conjuntos de treino, validação e teste final. Primeiro, separamos os 20% do teste final, depois dividimos o restante em 60% para treinamento. Os 20% restantes ficam para a validação. A chamada das três linhas de print confirma que deu certo."
   ]
  },
  {
   "cell_type": "markdown",
   "metadata": {},
   "source": [
    "#### Treinando os Modelos Sem Escalabilidade (Mantendo o Desequilíbrio)"
   ]
  },
  {
   "cell_type": "markdown",
   "metadata": {},
   "source": [
    "##### Árvore de Decisão"
   ]
  },
  {
   "cell_type": "code",
   "execution_count": 29,
   "metadata": {},
   "outputs": [
    {
     "name": "stdout",
     "output_type": "stream",
     "text": [
      "Melhores Hiperparâmetros:\n",
      "{'max_depth': 10, 'min_samples_split': 10, 'min_samples_leaf': 2}\n",
      "Melhor F1-Score: 0.5586\n"
     ]
    }
   ],
   "source": [
    "max_depth_values = [3, 5, 10, 15, 20]\n",
    "min_samples_split_values = [2, 5, 10]\n",
    "min_samples_leaf_values = [1, 2, 5]\n",
    "\n",
    "best_f1 = 0\n",
    "best_params = {}\n",
    "\n",
    "for max_depth in max_depth_values:\n",
    "    for min_samples_split in min_samples_split_values:\n",
    "        for min_samples_leaf in min_samples_leaf_values:\n",
    "            \n",
    "            model = DecisionTreeClassifier(\n",
    "                max_depth=max_depth,\n",
    "                min_samples_split=min_samples_split,\n",
    "                min_samples_leaf=min_samples_leaf,\n",
    "                random_state=12345\n",
    "            )\n",
    "            \n",
    "\n",
    "            model.fit(features_train, target_train)\n",
    "            \n",
    "            predictions = model.predict(features_valid)\n",
    "            \n",
    "            f1 = f1_score(target_valid, predictions)\n",
    "            \n",
    "\n",
    "            if f1 > best_f1:\n",
    "                best_f1 = f1\n",
    "                best_params = {\n",
    "                    'max_depth': max_depth,\n",
    "                    'min_samples_split': min_samples_split,\n",
    "                    'min_samples_leaf': min_samples_leaf\n",
    "                }\n",
    "\n",
    "\n",
    "print(\"Melhores Hiperparâmetros:\")\n",
    "print(best_params)\n",
    "print(f\"Melhor F1-Score: {best_f1:.4f}\")"
   ]
  },
  {
   "cell_type": "markdown",
   "metadata": {},
   "source": [
    "Já treinamos nossa primeira árvore de decisão, ignorando o desequilíbrio e desconsiderando a escalabilidade.  Nosso f1 Score é de 0.5586. A primeira vista, o valor já parece próximo da nossa meta."
   ]
  },
  {
   "cell_type": "markdown",
   "metadata": {},
   "source": [
    "##### Floresta Aleatória"
   ]
  },
  {
   "cell_type": "code",
   "execution_count": 30,
   "metadata": {},
   "outputs": [
    {
     "name": "stdout",
     "output_type": "stream",
     "text": [
      "Melhores Hiperparâmetros:\n",
      "{'n_estimators': 300, 'max_depth': 15, 'min_samples_split': 2, 'min_samples_leaf': 1}\n",
      "Melhor F1-Score: 0.5763\n"
     ]
    }
   ],
   "source": [
    "n_estimators_values = [50, 100, 200, 300]\n",
    "max_depth_values = [3, 5, 10, 15, 20]\n",
    "min_samples_split_values = [2, 5, 10]\n",
    "min_samples_leaf_values = [1, 2, 5]\n",
    "\n",
    "best_f1 = 0\n",
    "best_params = {}\n",
    "\n",
    "for n_estimators in n_estimators_values:\n",
    "    for max_depth in max_depth_values:\n",
    "        for min_samples_split in min_samples_split_values:\n",
    "            for min_samples_leaf in min_samples_leaf_values:\n",
    "\n",
    "                model = RandomForestClassifier(\n",
    "                    n_estimators=n_estimators,\n",
    "                    max_depth=max_depth,\n",
    "                    min_samples_split=min_samples_split,\n",
    "                    min_samples_leaf=min_samples_leaf,\n",
    "                    random_state=12345\n",
    "                )\n",
    "                \n",
    "                model.fit(features_train, target_train)\n",
    "                \n",
    "                predictions = model.predict(features_valid)\n",
    "                \n",
    "                f1 = f1_score(target_valid, predictions)\n",
    "                \n",
    "                if f1 > best_f1:\n",
    "                    best_f1 = f1\n",
    "                    best_params = {\n",
    "                        'n_estimators': n_estimators,\n",
    "                        'max_depth': max_depth,\n",
    "                        'min_samples_split': min_samples_split,\n",
    "                        'min_samples_leaf': min_samples_leaf\n",
    "                    }\n",
    "\n",
    "print(\"Melhores Hiperparâmetros:\")\n",
    "print(best_params)\n",
    "print(f\"Melhor F1-Score: {best_f1:.4f}\")\n"
   ]
  },
  {
   "cell_type": "markdown",
   "metadata": {},
   "source": [
    "##### Regressão Logística"
   ]
  },
  {
   "cell_type": "code",
   "execution_count": 31,
   "metadata": {},
   "outputs": [
    {
     "name": "stdout",
     "output_type": "stream",
     "text": [
      "F1-Score no conjunto de validação: 0.0653\n"
     ]
    }
   ],
   "source": [
    "model = LogisticRegression(solver='liblinear', random_state=12345)\n",
    "\n",
    "model.fit(features_train, target_train)\n",
    "\n",
    "predictions = model.predict(features_valid)\n",
    "\n",
    "f1 = f1_score(target_valid, predictions)\n",
    "\n",
    "print(f\"F1-Score no conjunto de validação: {f1:.4f}\")"
   ]
  },
  {
   "cell_type": "markdown",
   "metadata": {},
   "source": [
    "Jesus... Pior resultado disparado. Bom, a regressão logística é a que mais sofre com desequilíbrio e com falta de escalabilidade. O próximo passo é adicionar escalabilidade e refazer os testes. Assim, teremos treinamentos com e sem escalabilidade ignorando o desequilíbrio. Teremos uma boa ideia do que é melhor fazer nesse sentido. Com os novos resultados, vamos focar, então, em arrumar o problema do desequilíbrio. COm tudo resolvido, tendo batido a meta de 0.59, teremos terminado."
   ]
  },
  {
   "cell_type": "markdown",
   "metadata": {},
   "source": [
    "#### Treinando os Modelos com Escalabilidade (Ignorando o Desequilíbrio)"
   ]
  },
  {
   "cell_type": "code",
   "execution_count": 32,
   "metadata": {},
   "outputs": [],
   "source": [
    "scaler = StandardScaler()\n",
    "\n",
    "features_train_scaled = scaler.fit_transform(features_train)\n",
    "\n",
    "features_valid_scaled = scaler.transform(features_valid)\n",
    "features_test_scaled = scaler.transform(features_test)"
   ]
  },
  {
   "cell_type": "markdown",
   "metadata": {},
   "source": [
    "Adicionamos escalabilidade nos conjuntos de Treinamoento, Validação e Teste. Vamos treinar os modelos com os melhores parâmetros e ver se os resultados mudam."
   ]
  },
  {
   "cell_type": "markdown",
   "metadata": {},
   "source": [
    "##### Arvore de Decisão"
   ]
  },
  {
   "cell_type": "code",
   "execution_count": 33,
   "metadata": {},
   "outputs": [
    {
     "name": "stdout",
     "output_type": "stream",
     "text": [
      "F1-Score no conjunto de validação com escalonamento: 0.5593\n"
     ]
    }
   ],
   "source": [
    "best_max_depth = 10\n",
    "best_min_samples_split = 10\n",
    "best_min_samples_leaf = 2\n",
    "\n",
    "decision_tree = DecisionTreeClassifier(\n",
    "    max_depth=best_max_depth,\n",
    "    min_samples_split=best_min_samples_split,\n",
    "    min_samples_leaf=best_min_samples_leaf,\n",
    "    random_state=12345\n",
    ")\n",
    "\n",
    "decision_tree.fit(features_train_scaled, target_train)\n",
    "\n",
    "predictions = decision_tree.predict(features_valid_scaled)\n",
    "\n",
    "f1 = f1_score(target_valid, predictions)\n",
    "\n",
    "print(f\"F1-Score no conjunto de validação com escalonamento: {f1:.4f}\")\n"
   ]
  },
  {
   "cell_type": "markdown",
   "metadata": {},
   "source": [
    "Aqui, nossa melhora foi mínima. Considerando que Árvores de Decisão e FLorestas Aleatórias não são tão impactadas por escalailidade, tudo dentro do planejado. Ainda assim, é bom já termos alguma melhora. Vamos para a Floresta Aleatória."
   ]
  },
  {
   "cell_type": "markdown",
   "metadata": {},
   "source": [
    "##### FLoresta Aleatória"
   ]
  },
  {
   "cell_type": "code",
   "execution_count": 34,
   "metadata": {},
   "outputs": [
    {
     "name": "stdout",
     "output_type": "stream",
     "text": [
      "F1-Score no conjunto de validação com escalonamento: 0.5569\n"
     ]
    }
   ],
   "source": [
    "best_n_estimators = 50\n",
    "best_max_depth = 20\n",
    "best_min_samples_split = 2\n",
    "best_min_samples_leaf = 2\n",
    "\n",
    "random_forest = RandomForestClassifier(\n",
    "    n_estimators=best_n_estimators,\n",
    "    max_depth=best_max_depth,\n",
    "    min_samples_split=best_min_samples_split,\n",
    "    min_samples_leaf=best_min_samples_leaf,\n",
    "    random_state=12345\n",
    ")\n",
    "\n",
    "random_forest.fit(features_train_scaled, target_train)\n",
    "\n",
    "predictions = random_forest.predict(features_valid_scaled)\n",
    "\n",
    "f1 = f1_score(target_valid, predictions)\n",
    "\n",
    "print(f\"F1-Score no conjunto de validação com escalonamento: {f1:.4f}\")\n"
   ]
  },
  {
   "cell_type": "markdown",
   "metadata": {},
   "source": [
    "Isso, eu não esperava! Perdemos qualidade ao adicionarmos escalabilidade para a Floresta Aleatória. Isso quer dizer que vamos preferir treiná-la sem a escalabilidade daqui pra frente. Bom, tive que voltar nas células anteriores e garantir que, ao adicionar escalabilidade, estivesse usando variáveis como features_train_scaled, features_valid_scaled e features_test_scaled, mas agora temos os conjuntos com e sem escalabilidade para usarmos. Podemos seguir. "
   ]
  },
  {
   "cell_type": "markdown",
   "metadata": {},
   "source": [
    "##### Regressão Logísitca"
   ]
  },
  {
   "cell_type": "code",
   "execution_count": 35,
   "metadata": {},
   "outputs": [
    {
     "name": "stdout",
     "output_type": "stream",
     "text": [
      "F1-Score no conjunto de validação com escalonamento: 0.3135\n"
     ]
    }
   ],
   "source": [
    "logistic_model = LogisticRegression(solver='liblinear', random_state=12345)\n",
    "\n",
    "logistic_model.fit(features_train_scaled, target_train)\n",
    "\n",
    "predictions = logistic_model.predict(features_valid_scaled)\n",
    "\n",
    "f1 = f1_score(target_valid, predictions)\n",
    "\n",
    "print(f\"F1-Score no conjunto de validação com escalonamento: {f1:.4f}\")"
   ]
  },
  {
   "cell_type": "markdown",
   "metadata": {},
   "source": [
    "Aqui, ainda estamos longe do f1 score que queremos, mas a melhora já foi drástica. Com isso, já temos dois treinos para cada modelo, verificando a melhora (ou piora) com a escalabilidade e, ao mesmo tempo, ignorando o desequilíbrio de 80-20 do dataframe. Podemos focar em aarrumar isso agora."
   ]
  },
  {
   "cell_type": "markdown",
   "metadata": {},
   "source": [
    "## O Desequilíbrio na Força (Ou no Nosso Conjunto de Dados)"
   ]
  },
  {
   "cell_type": "markdown",
   "metadata": {},
   "source": [
    "Está na hora de partirmos para a etapa final do nosso projeto. Vamos começar a aplicar técnicas para combater o desequilíbrio de classe, que, no momento é de 80-20. O modelo que mais sofre com isso é, muito provavelmente, a regressão logística, mas vamos aplicar as técnicas em todos os modelos e ver os resultados. O primeiro treinamento que vamos fazer é estabelecendo class_weight=balanced, para ver o retorno individual de apenas essa métrica. É claro, para passar, precisaremos de pelo menos mais uma."
   ]
  },
  {
   "cell_type": "markdown",
   "metadata": {},
   "source": [
    "### Um Novo Class_weight"
   ]
  },
  {
   "cell_type": "markdown",
   "metadata": {},
   "source": [
    "#### Árvore de Decisão "
   ]
  },
  {
   "cell_type": "code",
   "execution_count": 36,
   "metadata": {},
   "outputs": [
    {
     "name": "stdout",
     "output_type": "stream",
     "text": [
      "F1-Score no conjunto de validação com escalonamento e class_weight='balanced': 0.5464\n"
     ]
    }
   ],
   "source": [
    "best_max_depth = 10\n",
    "best_min_samples_split = 10\n",
    "best_min_samples_leaf = 2\n",
    "\n",
    "decision_tree_balanced = DecisionTreeClassifier(\n",
    "    max_depth=best_max_depth,\n",
    "    min_samples_split=best_min_samples_split,\n",
    "    min_samples_leaf=best_min_samples_leaf,\n",
    "    class_weight='balanced',\n",
    "    random_state=12345\n",
    ")\n",
    "\n",
    "decision_tree_balanced.fit(features_train_scaled, target_train)\n",
    "\n",
    "predictions_balanced = decision_tree_balanced.predict(features_valid_scaled)\n",
    "\n",
    "f1_balanced = f1_score(target_valid, predictions_balanced)\n",
    "\n",
    "print(f\"F1-Score no conjunto de validação com escalonamento e class_weight='balanced': {f1_balanced:.4f}\")"
   ]
  },
  {
   "cell_type": "markdown",
   "metadata": {},
   "source": [
    "O nosso f1 caiu. Isso é o oposto do que queríamos. Vamos tentar treinar a árvore procurando novos parâmetros que se encaixem melhor com o class_weith. "
   ]
  },
  {
   "cell_type": "code",
   "execution_count": 37,
   "metadata": {},
   "outputs": [
    {
     "name": "stdout",
     "output_type": "stream",
     "text": [
      "Melhores Hiperparâmetros com class_weight='balanced': {'max_depth': 5, 'min_samples_split': 2, 'min_samples_leaf': 5}\n",
      "Melhor F1-Score: 0.5680\n"
     ]
    }
   ],
   "source": [
    "max_depth_values = [3, 5, 10, 15, 20]\n",
    "min_samples_split_values = [2, 5, 10]\n",
    "min_samples_leaf_values = [1, 2, 5]\n",
    "\n",
    "best_f1 = 0\n",
    "best_params = {}\n",
    "\n",
    "for max_depth in max_depth_values:\n",
    "    for min_samples_split in min_samples_split_values:\n",
    "        for min_samples_leaf in min_samples_leaf_values:\n",
    "\n",
    "            model = DecisionTreeClassifier(\n",
    "                max_depth=max_depth,\n",
    "                min_samples_split=min_samples_split,\n",
    "                min_samples_leaf=min_samples_leaf,\n",
    "                class_weight='balanced',\n",
    "                random_state=12345\n",
    "            )\n",
    "            \n",
    "            model.fit(features_train_scaled, target_train)\n",
    "            \n",
    "\n",
    "            predictions = model.predict(features_valid_scaled)\n",
    "            \n",
    "            f1 = f1_score(target_valid, predictions)\n",
    "            \n",
    "            if f1 > best_f1:\n",
    "                best_f1 = f1\n",
    "                best_params = {\n",
    "                    'max_depth': max_depth,\n",
    "                    'min_samples_split': min_samples_split,\n",
    "                    'min_samples_leaf': min_samples_leaf\n",
    "                }\n",
    "\n",
    "print(\"Melhores Hiperparâmetros com class_weight='balanced':\", best_params)\n",
    "print(f\"Melhor F1-Score: {best_f1:.4f}\")"
   ]
  },
  {
   "cell_type": "markdown",
   "metadata": {},
   "source": [
    "Este é o melhor resultado da Árvore de Decisão até agora e traz alguma melhora em relação aos resultados. Vamos manter assim por enquanto. e ver como os outros modelos se saem."
   ]
  },
  {
   "cell_type": "markdown",
   "metadata": {},
   "source": [
    "#### Floresta Aleatória"
   ]
  },
  {
   "cell_type": "code",
   "execution_count": 38,
   "metadata": {},
   "outputs": [
    {
     "name": "stdout",
     "output_type": "stream",
     "text": [
      "F1-Score no conjunto de validação sem escalonamento e class_weight='balanced': 0.6039\n"
     ]
    }
   ],
   "source": [
    "best_n_estimators = 50\n",
    "best_max_depth = 20\n",
    "best_min_samples_split = 2\n",
    "best_min_samples_leaf = 2\n",
    "\n",
    "random_forest_balanced = RandomForestClassifier(\n",
    "    n_estimators=best_n_estimators,\n",
    "    max_depth=best_max_depth,\n",
    "    min_samples_split=best_min_samples_split,\n",
    "    min_samples_leaf=best_min_samples_leaf,\n",
    "    class_weight='balanced',\n",
    "    random_state=12345\n",
    ")\n",
    "\n",
    "random_forest_balanced.fit(features_train, target_train)\n",
    "\n",
    "predictions_balanced_rf = random_forest_balanced.predict(features_valid)\n",
    "\n",
    "f1_balanced_rf = f1_score(target_valid, predictions_balanced_rf)\n",
    "\n",
    "print(f\"F1-Score no conjunto de validação sem escalonamento e class_weight='balanced': {f1_balanced_rf:.4f}\")"
   ]
  },
  {
   "cell_type": "markdown",
   "metadata": {},
   "source": [
    "Aqui, atingimos o valor de f1 que nos foi pedido. Estamos no caminho certo, vamos calcular o AUC_ROC desse modelo"
   ]
  },
  {
   "cell_type": "code",
   "execution_count": 39,
   "metadata": {},
   "outputs": [
    {
     "name": "stdout",
     "output_type": "stream",
     "text": [
      "AUC-ROC: 0.8498\n"
     ]
    }
   ],
   "source": [
    "probabilities = random_forest_balanced.predict_proba(features_valid)[:, 1]\n",
    "\n",
    "auc_roc = roc_auc_score(target_valid, probabilities)\n",
    "print(f\"AUC-ROC: {auc_roc:.4f}\")"
   ]
  },
  {
   "cell_type": "markdown",
   "metadata": {},
   "source": [
    "O f1 tem um foco maior em classificar a classe minoritária, enquanto o AUC ROC determina a capacidade de separar as classes de forma geral. Aqui, amos os valores já estão ótimos. 0.84 para AUC ROC é interessante! Mesmo já tendo batido os valores pedidos pelo prjeto, ainda temos trabalho a fazer. Vamos treinar a Floresta Aleatória e tentar identificar novos parâmetros que melhorem o desemenho ainda mais, agora que temos o class_weight definido."
   ]
  },
  {
   "cell_type": "code",
   "execution_count": 40,
   "metadata": {},
   "outputs": [
    {
     "name": "stdout",
     "output_type": "stream",
     "text": [
      "Melhores Hiperparâmetros com class_weight='balanced': {'n_estimators': 100, 'max_depth': 15, 'min_samples_split': 2, 'min_samples_leaf': 5}\n",
      "Melhor F1-Score: 0.6409\n"
     ]
    }
   ],
   "source": [
    "n_estimators_values = [10, 50, 100, 200]\n",
    "max_depth_values = [5, 10, 15, 20, None]\n",
    "min_samples_split_values = [2, 5, 10]\n",
    "min_samples_leaf_values = [1, 2, 5]\n",
    "\n",
    "best_f1 = 0\n",
    "best_params = {}\n",
    "\n",
    "for n_estimators in n_estimators_values:\n",
    "    for max_depth in max_depth_values:\n",
    "        for min_samples_split in min_samples_split_values:\n",
    "            for min_samples_leaf in min_samples_leaf_values:\n",
    "               \n",
    "                model = RandomForestClassifier(\n",
    "                    n_estimators=n_estimators,\n",
    "                    max_depth=max_depth,\n",
    "                    min_samples_split=min_samples_split,\n",
    "                    min_samples_leaf=min_samples_leaf,\n",
    "                    class_weight='balanced',\n",
    "                    random_state=12345\n",
    "                )\n",
    "                \n",
    "                model.fit(features_train, target_train)\n",
    "                \n",
    "                predictions = model.predict(features_valid)\n",
    "                \n",
    "                f1 = f1_score(target_valid, predictions)\n",
    "                \n",
    "                if f1 > best_f1:\n",
    "                    best_f1 = f1\n",
    "                    best_params = {\n",
    "                        'n_estimators': n_estimators,\n",
    "                        'max_depth': max_depth,\n",
    "                        'min_samples_split': min_samples_split,\n",
    "                        'min_samples_leaf': min_samples_leaf\n",
    "                    }\n",
    "\n",
    "print(\"Melhores Hiperparâmetros com class_weight='balanced':\", best_params)\n",
    "print(f\"Melhor F1-Score: {best_f1:.4f}\")"
   ]
  },
  {
   "cell_type": "markdown",
   "metadata": {},
   "source": [
    "Melhoramos ainda mais o nosso desempenho! Excelente notícia! Vamos calcular o AUC ROC e seguir em frente!"
   ]
  },
  {
   "cell_type": "code",
   "execution_count": 41,
   "metadata": {},
   "outputs": [
    {
     "name": "stdout",
     "output_type": "stream",
     "text": [
      "AUC-ROC com novos hiperparâmetros: 0.8498\n"
     ]
    }
   ],
   "source": [
    "probabilities = random_forest_balanced.predict_proba(features_valid)[:, 1]\n",
    "\n",
    "auc_roc = roc_auc_score(target_valid, probabilities)\n",
    "print(f\"AUC-ROC com novos hiperparâmetros: {auc_roc:.4f}\")"
   ]
  },
  {
   "cell_type": "markdown",
   "metadata": {},
   "source": [
    "Mesmo resultado. Queria que tivesse aumentado também, mas não se pode ter tudo na vida. COm isso, percebemos que a FLoresta Aleatória se beneficiou bastante do ajuste e do combate ao desequilíbrio, mesmo que não seja o modelo que, em teoria, mais de beneficia dessa mudança. Ela é nossa vencedora por enquanto. Vamos partir para a Regressão Logística!"
   ]
  },
  {
   "cell_type": "markdown",
   "metadata": {},
   "source": [
    "#### Regressão Logística"
   ]
  },
  {
   "cell_type": "code",
   "execution_count": 42,
   "metadata": {},
   "outputs": [
    {
     "name": "stdout",
     "output_type": "stream",
     "text": [
      "F1-Score no conjunto de validação com escalonamento e class_weight='balanced': 0.4796\n"
     ]
    }
   ],
   "source": [
    "logistic_model_balanced = LogisticRegression(\n",
    "    solver='liblinear',\n",
    "    class_weight='balanced',\n",
    "    random_state=12345\n",
    ")\n",
    "\n",
    "logistic_model_balanced.fit(features_train_scaled, target_train)\n",
    "\n",
    "predictions_balanced_lr = logistic_model_balanced.predict(features_valid_scaled)\n",
    "\n",
    "f1_balanced_lr = f1_score(target_valid, predictions_balanced_lr)\n",
    "\n",
    "print(f\"F1-Score no conjunto de validação com escalonamento e class_weight='balanced': {f1_balanced_lr:.4f}\")"
   ]
  },
  {
   "cell_type": "markdown",
   "metadata": {},
   "source": [
    "Mais uma melhora interessante, mas ainda estamos longe do valor pedido. Mesmo que já tenhamos um modelo que supera os requisitos, teremos que adicionar novas formas de combater o desequilíbrio de qualquer forma, então vamos focar em melhorar esse desempenho aidna mais."
   ]
  },
  {
   "cell_type": "markdown",
   "metadata": {},
   "source": [
    "### Oversampling"
   ]
  },
  {
   "cell_type": "markdown",
   "metadata": {},
   "source": [
    "A próxima técnica que resolvi testar é a de Oversampling. Vamos aumentar o nosso target para equilibrar os dados. Acho preferível começar assim, porque prefiro clonar dados do que correr o risco de cortar dados importantes com o Undersampling. Essa será a segunda técnica de combate ao desequilíbrio"
   ]
  },
  {
   "cell_type": "code",
   "execution_count": 43,
   "metadata": {},
   "outputs": [],
   "source": [
    "def upsample(features, target):\n",
    "\n",
    "    features_zeros = features[target == 0]\n",
    "    features_ones = features[target == 1]\n",
    "    target_zeros = target[target == 0]\n",
    "    target_ones = target[target == 1]\n",
    "    \n",
    "    repeat = (len(target_zeros) // len(target_ones)) + 1\n",
    "    \n",
    "    features_upsampled = pd.concat([features_zeros] + [features_ones] * repeat)\n",
    "    target_upsampled = pd.concat([target_zeros] + [target_ones] * repeat)\n",
    "    \n",
    "    features_upsampled = features_upsampled[:len(target_zeros) * 2]\n",
    "    target_upsampled = target_upsampled[:len(target_zeros) * 2]\n",
    "    \n",
    "    features_upsampled, target_upsampled = shuffle(features_upsampled, target_upsampled, random_state=54321)\n",
    "    \n",
    "    return features_upsampled, target_upsampled"
   ]
  },
  {
   "cell_type": "code",
   "execution_count": 44,
   "metadata": {},
   "outputs": [
    {
     "name": "stdout",
     "output_type": "stream",
     "text": [
      "Equilíbrio após o upsampling (sem escalabilidade):\n",
      "0    4777\n",
      "1    4777\n",
      "Name: Exited, dtype: int64\n"
     ]
    }
   ],
   "source": [
    "features_train_upsampled, target_train_upsampled = upsample(features_train, target_train)\n",
    "\n",
    "print(\"Equilíbrio após o upsampling (sem escalabilidade):\")\n",
    "print(target_train_upsampled.value_counts())"
   ]
  },
  {
   "cell_type": "code",
   "execution_count": 45,
   "metadata": {},
   "outputs": [
    {
     "name": "stdout",
     "output_type": "stream",
     "text": [
      "\n",
      "Equilíbrio após o upsampling (com escalabilidade):\n",
      "0    4777\n",
      "1    4777\n",
      "Name: Exited, dtype: int64\n"
     ]
    }
   ],
   "source": [
    "features_train_scaled_df = pd.DataFrame(features_train_scaled, columns=features_train.columns).reset_index(drop=True)\n",
    "target_train_reset = target_train.reset_index(drop=True)\n",
    "\n",
    "features_train_scaled_upsampled, target_train_scaled_upsampled = upsample(\n",
    "    features_train_scaled_df,\n",
    "    target_train_reset\n",
    ")\n",
    "\n",
    "print(\"\\nEquilíbrio após o upsampling (com escalabilidade):\")\n",
    "print(target_train_scaled_upsampled.value_counts())"
   ]
  },
  {
   "cell_type": "markdown",
   "metadata": {},
   "source": [
    "#### Árvore de Decisão"
   ]
  },
  {
   "cell_type": "code",
   "execution_count": 46,
   "metadata": {},
   "outputs": [
    {
     "name": "stdout",
     "output_type": "stream",
     "text": [
      "F1-Score no conjunto de validação: 0.5717\n",
      "AUC-ROC no conjunto de validação: 0.8337\n"
     ]
    }
   ],
   "source": [
    "best_max_depth = 5\n",
    "best_min_samples_split = 2\n",
    "best_min_samples_leaf = 5\n",
    "\n",
    "decision_tree = DecisionTreeClassifier(\n",
    "    max_depth=best_max_depth,\n",
    "    min_samples_split=best_min_samples_split,\n",
    "    min_samples_leaf=best_min_samples_leaf,\n",
    "    class_weight='balanced',\n",
    "    random_state=12345\n",
    ")\n",
    "\n",
    "decision_tree.fit(features_train_scaled_upsampled, target_train_scaled_upsampled)\n",
    "\n",
    "predictions = decision_tree.predict(features_valid_scaled)\n",
    "\n",
    "f1 = f1_score(target_valid, predictions)\n",
    "print(f\"F1-Score no conjunto de validação: {f1:.4f}\")\n",
    "\n",
    "probabilities = decision_tree.predict_proba(features_valid_scaled)[:, 1]\n",
    "auc_roc = roc_auc_score(target_valid, probabilities)\n",
    "print(f\"AUC-ROC no conjunto de validação: {auc_roc:.4f}\")"
   ]
  },
  {
   "cell_type": "markdown",
   "metadata": {},
   "source": [
    "Uma nova melhora, mas essa árvore ainda não alcaçou nossos requisitos. Com duas técnicas de reajuste de desequilíbrio já aplicadas, é bem provável que a FLoresta Aleatória seja a campeã. Seguimos com os testes. "
   ]
  },
  {
   "cell_type": "markdown",
   "metadata": {},
   "source": [
    "#### FLoresta Aleatória"
   ]
  },
  {
   "cell_type": "code",
   "execution_count": 47,
   "metadata": {},
   "outputs": [
    {
     "name": "stdout",
     "output_type": "stream",
     "text": [
      "F1-Score no conjunto de validação: 0.6323\n",
      "AUC-ROC no conjunto de validação: 0.8592\n"
     ]
    }
   ],
   "source": [
    "from sklearn.ensemble import RandomForestClassifier\n",
    "from sklearn.metrics import f1_score, roc_auc_score\n",
    "\n",
    "best_n_estimators = 100\n",
    "best_max_depth = 15\n",
    "best_min_samples_split = 2\n",
    "best_min_samples_leaf = 5\n",
    "\n",
    "random_forest = RandomForestClassifier(\n",
    "    n_estimators=best_n_estimators,\n",
    "    max_depth=best_max_depth,\n",
    "    min_samples_split=best_min_samples_split,\n",
    "    min_samples_leaf=best_min_samples_leaf,\n",
    "    class_weight='balanced',\n",
    "    random_state=12345\n",
    ")\n",
    "\n",
    "random_forest.fit(features_train_upsampled, target_train_upsampled)\n",
    "\n",
    "predictions = random_forest.predict(features_valid)\n",
    "\n",
    "f1 = f1_score(target_valid, predictions)\n",
    "print(f\"F1-Score no conjunto de validação: {f1:.4f}\")\n",
    "\n",
    "probabilities = random_forest.predict_proba(features_valid)[:, 1]\n",
    "auc_roc = roc_auc_score(target_valid, probabilities)\n",
    "print(f\"AUC-ROC no conjunto de validação: {auc_roc:.4f}\")"
   ]
  },
  {
   "cell_type": "markdown",
   "metadata": {},
   "source": [
    "Uma ligeira queda, mas a FLoresta ainda segue acima do valor de f1 e com um excelente AUC ROC. Podemos seguir a diante com os treinamentos."
   ]
  },
  {
   "cell_type": "markdown",
   "metadata": {},
   "source": [
    "#### Regressão Logística"
   ]
  },
  {
   "cell_type": "code",
   "execution_count": 48,
   "metadata": {},
   "outputs": [
    {
     "name": "stdout",
     "output_type": "stream",
     "text": [
      "F1-Score no conjunto de validação: 0.4800\n",
      "AUC-ROC no conjunto de validação: 0.7615\n"
     ]
    }
   ],
   "source": [
    "logistic_regression = LogisticRegression(\n",
    "    solver='liblinear',\n",
    "    class_weight='balanced',\n",
    "    random_state=12345\n",
    ")\n",
    "\n",
    "logistic_regression.fit(features_train_scaled_upsampled, target_train_scaled_upsampled)\n",
    "\n",
    "predictions = logistic_regression.predict(features_valid_scaled)\n",
    "\n",
    "f1 = f1_score(target_valid, predictions)\n",
    "print(f\"F1-Score no conjunto de validação: {f1:.4f}\")\n",
    "\n",
    "probabilities = logistic_regression.predict_proba(features_valid_scaled)[:, 1]\n",
    "auc_roc = roc_auc_score(target_valid, probabilities)\n",
    "print(f\"AUC-ROC no conjunto de validação: {auc_roc:.4f}\")"
   ]
  },
  {
   "cell_type": "markdown",
   "metadata": {},
   "source": [
    "Uma nova melhora, mas ainda assim, fraca. No fim, a arrancada da nossa Regressão Logísitca não foi boa o suficiente. Baseado no conjunto de validação, a campeã é a Floresta Aleatória! Agora, basta fazer o teste final com o conjunto de testes! Seguiremos com isso. "
   ]
  },
  {
   "cell_type": "markdown",
   "metadata": {},
   "source": [
    "## Avaliando no Conjunto de Teste"
   ]
  },
  {
   "cell_type": "markdown",
   "metadata": {},
   "source": [
    "Agora sim! Hora de colocar os modelos à prova! Vamos fazer os testes com o conjunto de teste e verificar os resultados finais."
   ]
  },
  {
   "cell_type": "markdown",
   "metadata": {},
   "source": [
    "### Árvore de Decisão"
   ]
  },
  {
   "cell_type": "code",
   "execution_count": 49,
   "metadata": {},
   "outputs": [
    {
     "name": "stdout",
     "output_type": "stream",
     "text": [
      "F1-Score no conjunto de teste: 0.5709\n",
      "AUC-ROC no conjunto de teste: 0.8443\n"
     ]
    }
   ],
   "source": [
    "predictions_test = decision_tree.predict(features_test_scaled)\n",
    "\n",
    "f1_test = f1_score(target_test, predictions_test)\n",
    "print(f\"F1-Score no conjunto de teste: {f1_test:.4f}\")\n",
    "\n",
    "probabilities_test = decision_tree.predict_proba(features_test_scaled)[:, 1]\n",
    "auc_roc_test = roc_auc_score(target_test, probabilities_test)\n",
    "print(f\"AUC-ROC no conjunto de teste: {auc_roc_test:.4f}\")"
   ]
  },
  {
   "cell_type": "markdown",
   "metadata": {},
   "source": [
    "Nossa Árvore de Decisão segurou bem os resultados. Neste ponto, era exatamente isso que queríamos. O trienamento do modelo está ajustado. Ele não bate o requisito então não será aprovado, mas já temos nosso campeã, ela só precisa segurar os resultados como a primeira colega."
   ]
  },
  {
   "cell_type": "markdown",
   "metadata": {},
   "source": [
    "### FLoresta Aleatória"
   ]
  },
  {
   "cell_type": "code",
   "execution_count": 50,
   "metadata": {},
   "outputs": [
    {
     "name": "stdout",
     "output_type": "stream",
     "text": [
      "F1-Score no conjunto de teste: 0.6119\n",
      "AUC-ROC no conjunto de teste: 0.8596\n"
     ]
    }
   ],
   "source": [
    "predictions_test = random_forest.predict(features_test)\n",
    "\n",
    "f1_test = f1_score(target_test, predictions_test)\n",
    "print(f\"F1-Score no conjunto de teste: {f1_test:.4f}\")\n",
    "\n",
    "probabilities_test = random_forest.predict_proba(features_test)[:, 1]\n",
    "auc_roc_test = roc_auc_score(target_test, probabilities_test)\n",
    "print(f\"AUC-ROC no conjunto de teste: {auc_roc_test:.4f}\")"
   ]
  },
  {
   "cell_type": "markdown",
   "metadata": {},
   "source": [
    "Eis o grande campeão, com mais de 2 pontos acima do requisito. Mais uma vez a Floresta apresentou uma leve queda, mas isso é esperado, considerando que ele está lidando com um novo conjunto de informações. A queda não foi siginificativa e o modelo manteve o f1 acima de 0.59. Vamos fazer o teste do nosso terceiro colocado para finalizar direitinho."
   ]
  },
  {
   "cell_type": "markdown",
   "metadata": {},
   "source": [
    "### Regressão Logística"
   ]
  },
  {
   "cell_type": "code",
   "execution_count": 51,
   "metadata": {},
   "outputs": [
    {
     "name": "stdout",
     "output_type": "stream",
     "text": [
      "F1-Score no conjunto de teste: 0.4978\n",
      "AUC-ROC no conjunto de teste: 0.7773\n"
     ]
    }
   ],
   "source": [
    "predictions_test = logistic_regression.predict(features_test_scaled)\n",
    "\n",
    "f1_test = f1_score(target_test, predictions_test)\n",
    "print(f\"F1-Score no conjunto de teste: {f1_test:.4f}\")\n",
    "\n",
    "probabilities_test = logistic_regression.predict_proba(features_test_scaled)[:, 1]\n",
    "auc_roc_test = roc_auc_score(target_test, probabilities_test)\n",
    "print(f\"AUC-ROC no conjunto de teste: {auc_roc_test:.4f}\")"
   ]
  },
  {
   "cell_type": "markdown",
   "metadata": {},
   "source": [
    "Nosso terceiro colocado foi o único que apresentou uma melhora no teste final. Ainda assim, longe de ser suficiente. BOm isso já era esperado, considerando que a regressão logísitica é a que mais sofre com desequilíbrio e com falta de escalabilidade. Com isso, nosso projeto esta finalmente finalizado."
   ]
  },
  {
   "cell_type": "markdown",
   "metadata": {},
   "source": [
    "## Conclusão"
   ]
  },
  {
   "cell_type": "markdown",
   "metadata": {},
   "source": [
    "Este é o fim de mais um Projeto de Sprint do nosso Bootcamp. Dessa vez, nos foi dado um conjunto de dados mais robusto e mais complexo, que demandava uma boa quantidade de alterações. COlunas desnecessárias, variáveis categóricas, dados sem escalabilidade e, principalmente, um grande desequilíbrio. \n",
    "\n",
    "O trabalho foi longo, mas traçamos insights interessantes sobre características que poderiam interferir na capacidade de avaliação de todos os modelos e verificamos o grande desequilíbro dos dados. Além disso, verificamos a distribuição de diversas variáveis em exited e verificamos outliers que poderiam nos atrapalhar. \n",
    "\n",
    "Depois, passamos rápido pela codificação One-Hot e fizemos um longo trabalho para verificar a necessidade da escalabilidade no trabalho. Depois de muita avaliação, fomos capazes de perceber que a escalabilidade tem efeitos muito variados em diferentes modelos de aprendizado. A Floresta Aleatória perdia sua capacidade com escalabilidade dos dados. Tivemos o desafio de duplicar os conjuntos para garantir que cada modelo fosse treinado com ou sem escalabilidade, para obter o melhor resultado.\n",
    "\n",
    "Depois, alteramos o peso da classe e permitimos que ficasse balanceada e aumentamos o conjunto de dados para acabar com o desequilíbrio. Depois de todo o trabalho que tivemos, "
   ]
  }
 ],
 "metadata": {
  "ExecuteTimeLog": [
   {
    "duration": 2735,
    "start_time": "2024-12-18T13:07:07.651Z"
   },
   {
    "duration": 26,
    "start_time": "2024-12-18T13:13:35.188Z"
   },
   {
    "duration": 12,
    "start_time": "2024-12-18T13:13:54.493Z"
   },
   {
    "duration": 11,
    "start_time": "2024-12-18T13:14:07.279Z"
   },
   {
    "duration": 296,
    "start_time": "2024-12-18T13:14:30.056Z"
   },
   {
    "duration": 17,
    "start_time": "2024-12-18T13:14:33.876Z"
   },
   {
    "duration": 3,
    "start_time": "2024-12-18T13:14:42.445Z"
   },
   {
    "duration": 9,
    "start_time": "2024-12-18T13:14:58.637Z"
   },
   {
    "duration": 11,
    "start_time": "2024-12-18T13:15:09.147Z"
   },
   {
    "duration": 10,
    "start_time": "2024-12-18T13:15:23.639Z"
   },
   {
    "duration": 10,
    "start_time": "2024-12-18T13:17:26.540Z"
   },
   {
    "duration": 13,
    "start_time": "2024-12-18T13:17:36.465Z"
   },
   {
    "duration": 9,
    "start_time": "2024-12-18T13:17:52.403Z"
   },
   {
    "duration": 13,
    "start_time": "2024-12-18T13:36:32.834Z"
   },
   {
    "duration": 618,
    "start_time": "2024-12-18T13:36:44.384Z"
   },
   {
    "duration": 10,
    "start_time": "2024-12-18T13:36:53.778Z"
   },
   {
    "duration": 7,
    "start_time": "2024-12-18T14:22:46.362Z"
   },
   {
    "duration": 5,
    "start_time": "2024-12-18T14:23:13.390Z"
   },
   {
    "duration": 4,
    "start_time": "2024-12-18T14:36:03.034Z"
   },
   {
    "duration": 9,
    "start_time": "2024-12-18T14:36:28.795Z"
   },
   {
    "duration": 11,
    "start_time": "2024-12-18T14:38:41.671Z"
   },
   {
    "duration": 3,
    "start_time": "2024-12-18T14:41:49.507Z"
   },
   {
    "duration": 5,
    "start_time": "2024-12-18T15:13:36.448Z"
   },
   {
    "duration": 226,
    "start_time": "2024-12-18T15:45:30.577Z"
   },
   {
    "duration": 18,
    "start_time": "2024-12-18T15:46:20.330Z"
   },
   {
    "duration": 87,
    "start_time": "2024-12-18T15:46:30.304Z"
   },
   {
    "duration": 4,
    "start_time": "2024-12-18T15:58:07.739Z"
   },
   {
    "duration": 4,
    "start_time": "2024-12-18T15:58:14.110Z"
   },
   {
    "duration": 4,
    "start_time": "2024-12-18T15:58:21.311Z"
   },
   {
    "duration": 3,
    "start_time": "2024-12-18T16:07:47.263Z"
   },
   {
    "duration": 2823,
    "start_time": "2024-12-18T22:20:57.850Z"
   },
   {
    "duration": 26,
    "start_time": "2024-12-18T22:21:00.676Z"
   },
   {
    "duration": 11,
    "start_time": "2024-12-18T22:21:00.703Z"
   },
   {
    "duration": 9,
    "start_time": "2024-12-18T22:21:00.717Z"
   },
   {
    "duration": 19,
    "start_time": "2024-12-18T22:21:00.729Z"
   },
   {
    "duration": 4,
    "start_time": "2024-12-18T22:21:00.750Z"
   },
   {
    "duration": 5,
    "start_time": "2024-12-18T22:21:00.756Z"
   },
   {
    "duration": 9,
    "start_time": "2024-12-18T22:21:00.764Z"
   },
   {
    "duration": 4,
    "start_time": "2024-12-18T22:21:00.774Z"
   },
   {
    "duration": 3,
    "start_time": "2024-12-18T22:21:00.781Z"
   },
   {
    "duration": 6,
    "start_time": "2024-12-18T22:21:00.785Z"
   },
   {
    "duration": 168,
    "start_time": "2024-12-18T22:21:00.792Z"
   },
   {
    "duration": 101,
    "start_time": "2024-12-18T22:21:00.962Z"
   },
   {
    "duration": 4,
    "start_time": "2024-12-18T22:21:01.065Z"
   },
   {
    "duration": 4,
    "start_time": "2024-12-18T22:21:01.071Z"
   },
   {
    "duration": 6,
    "start_time": "2024-12-18T22:25:25.809Z"
   },
   {
    "duration": 6,
    "start_time": "2024-12-18T22:30:04.627Z"
   },
   {
    "duration": 7,
    "start_time": "2024-12-18T22:30:21.313Z"
   },
   {
    "duration": 693,
    "start_time": "2024-12-18T22:42:20.139Z"
   },
   {
    "duration": 328,
    "start_time": "2024-12-18T22:43:53.737Z"
   },
   {
    "duration": 2609,
    "start_time": "2024-12-19T11:24:07.487Z"
   },
   {
    "duration": 30,
    "start_time": "2024-12-19T11:24:10.099Z"
   },
   {
    "duration": 13,
    "start_time": "2024-12-19T11:24:10.131Z"
   },
   {
    "duration": 10,
    "start_time": "2024-12-19T11:24:10.145Z"
   },
   {
    "duration": 10,
    "start_time": "2024-12-19T11:24:10.158Z"
   },
   {
    "duration": 3,
    "start_time": "2024-12-19T11:24:10.170Z"
   },
   {
    "duration": 4,
    "start_time": "2024-12-19T11:24:10.175Z"
   },
   {
    "duration": 30,
    "start_time": "2024-12-19T11:24:10.181Z"
   },
   {
    "duration": 5,
    "start_time": "2024-12-19T11:24:10.213Z"
   },
   {
    "duration": 4,
    "start_time": "2024-12-19T11:24:10.220Z"
   },
   {
    "duration": 5,
    "start_time": "2024-12-19T11:24:10.225Z"
   },
   {
    "duration": 152,
    "start_time": "2024-12-19T11:24:10.232Z"
   },
   {
    "duration": 96,
    "start_time": "2024-12-19T11:24:10.386Z"
   },
   {
    "duration": 4,
    "start_time": "2024-12-19T11:24:10.484Z"
   },
   {
    "duration": 4,
    "start_time": "2024-12-19T11:24:10.489Z"
   },
   {
    "duration": 16,
    "start_time": "2024-12-19T11:24:10.494Z"
   },
   {
    "duration": 654,
    "start_time": "2024-12-19T11:24:10.511Z"
   },
   {
    "duration": 318,
    "start_time": "2024-12-19T11:24:11.166Z"
   },
   {
    "duration": 168,
    "start_time": "2024-12-19T14:37:44.779Z"
   },
   {
    "duration": 2729,
    "start_time": "2024-12-19T14:37:50.785Z"
   },
   {
    "duration": 25,
    "start_time": "2024-12-19T14:37:53.516Z"
   },
   {
    "duration": 13,
    "start_time": "2024-12-19T14:37:53.543Z"
   },
   {
    "duration": 11,
    "start_time": "2024-12-19T14:37:53.558Z"
   },
   {
    "duration": 9,
    "start_time": "2024-12-19T14:37:53.572Z"
   },
   {
    "duration": 4,
    "start_time": "2024-12-19T14:37:53.583Z"
   },
   {
    "duration": 4,
    "start_time": "2024-12-19T14:37:53.589Z"
   },
   {
    "duration": 8,
    "start_time": "2024-12-19T14:37:53.610Z"
   },
   {
    "duration": 4,
    "start_time": "2024-12-19T14:37:53.620Z"
   },
   {
    "duration": 3,
    "start_time": "2024-12-19T14:37:53.627Z"
   },
   {
    "duration": 6,
    "start_time": "2024-12-19T14:37:53.631Z"
   },
   {
    "duration": 160,
    "start_time": "2024-12-19T14:37:53.638Z"
   },
   {
    "duration": 91,
    "start_time": "2024-12-19T14:37:53.801Z"
   },
   {
    "duration": 14,
    "start_time": "2024-12-19T14:37:53.894Z"
   },
   {
    "duration": 4,
    "start_time": "2024-12-19T14:37:53.910Z"
   },
   {
    "duration": 6,
    "start_time": "2024-12-19T14:37:53.916Z"
   },
   {
    "duration": 670,
    "start_time": "2024-12-19T14:37:53.924Z"
   },
   {
    "duration": 317,
    "start_time": "2024-12-19T14:37:54.596Z"
   },
   {
    "duration": 4,
    "start_time": "2024-12-19T14:37:54.915Z"
   },
   {
    "duration": 6,
    "start_time": "2024-12-19T14:42:26.025Z"
   },
   {
    "duration": 115,
    "start_time": "2024-12-19T14:42:56.460Z"
   },
   {
    "duration": 4,
    "start_time": "2024-12-19T14:43:20.174Z"
   },
   {
    "duration": 6,
    "start_time": "2024-12-19T14:51:43.694Z"
   },
   {
    "duration": 4,
    "start_time": "2024-12-19T14:53:34.022Z"
   },
   {
    "duration": 5,
    "start_time": "2024-12-19T14:53:43.788Z"
   },
   {
    "duration": 111,
    "start_time": "2024-12-19T14:56:08.502Z"
   },
   {
    "duration": 5,
    "start_time": "2024-12-19T15:05:54.509Z"
   },
   {
    "duration": 3,
    "start_time": "2024-12-19T15:35:32.247Z"
   },
   {
    "duration": 15,
    "start_time": "2024-12-19T15:35:32.253Z"
   },
   {
    "duration": 10,
    "start_time": "2024-12-19T15:35:32.270Z"
   },
   {
    "duration": 9,
    "start_time": "2024-12-19T15:35:32.282Z"
   },
   {
    "duration": 9,
    "start_time": "2024-12-19T15:35:32.294Z"
   },
   {
    "duration": 4,
    "start_time": "2024-12-19T15:35:32.304Z"
   },
   {
    "duration": 4,
    "start_time": "2024-12-19T15:35:32.310Z"
   },
   {
    "duration": 9,
    "start_time": "2024-12-19T15:35:32.315Z"
   },
   {
    "duration": 3,
    "start_time": "2024-12-19T15:35:32.326Z"
   },
   {
    "duration": 4,
    "start_time": "2024-12-19T15:35:32.331Z"
   },
   {
    "duration": 5,
    "start_time": "2024-12-19T15:35:32.336Z"
   },
   {
    "duration": 138,
    "start_time": "2024-12-19T15:35:32.343Z"
   },
   {
    "duration": 95,
    "start_time": "2024-12-19T15:35:32.483Z"
   },
   {
    "duration": 3,
    "start_time": "2024-12-19T15:35:32.583Z"
   },
   {
    "duration": 4,
    "start_time": "2024-12-19T15:35:32.588Z"
   },
   {
    "duration": 6,
    "start_time": "2024-12-19T15:35:32.609Z"
   },
   {
    "duration": 590,
    "start_time": "2024-12-19T15:35:32.616Z"
   },
   {
    "duration": 404,
    "start_time": "2024-12-19T15:35:33.209Z"
   },
   {
    "duration": 4,
    "start_time": "2024-12-19T15:35:33.615Z"
   },
   {
    "duration": 128,
    "start_time": "2024-12-19T15:35:33.621Z"
   },
   {
    "duration": 5,
    "start_time": "2024-12-19T15:35:33.752Z"
   },
   {
    "duration": 118,
    "start_time": "2024-12-19T15:35:33.759Z"
   },
   {
    "duration": 6,
    "start_time": "2024-12-19T15:35:33.878Z"
   },
   {
    "duration": 7,
    "start_time": "2024-12-19T15:37:58.154Z"
   },
   {
    "duration": 7,
    "start_time": "2024-12-19T15:41:23.822Z"
   },
   {
    "duration": 8,
    "start_time": "2024-12-19T17:44:40.187Z"
   },
   {
    "duration": 513,
    "start_time": "2024-12-19T18:03:31.425Z"
   },
   {
    "duration": 5,
    "start_time": "2024-12-19T18:03:47.355Z"
   },
   {
    "duration": 20,
    "start_time": "2024-12-19T18:03:47.363Z"
   },
   {
    "duration": 10,
    "start_time": "2024-12-19T18:03:47.384Z"
   },
   {
    "duration": 9,
    "start_time": "2024-12-19T18:03:47.396Z"
   },
   {
    "duration": 13,
    "start_time": "2024-12-19T18:03:47.407Z"
   },
   {
    "duration": 5,
    "start_time": "2024-12-19T18:03:47.421Z"
   },
   {
    "duration": 4,
    "start_time": "2024-12-19T18:03:47.427Z"
   },
   {
    "duration": 9,
    "start_time": "2024-12-19T18:03:47.432Z"
   },
   {
    "duration": 4,
    "start_time": "2024-12-19T18:03:47.443Z"
   },
   {
    "duration": 4,
    "start_time": "2024-12-19T18:03:47.448Z"
   },
   {
    "duration": 6,
    "start_time": "2024-12-19T18:03:47.454Z"
   },
   {
    "duration": 145,
    "start_time": "2024-12-19T18:03:47.461Z"
   },
   {
    "duration": 90,
    "start_time": "2024-12-19T18:03:47.609Z"
   },
   {
    "duration": 9,
    "start_time": "2024-12-19T18:03:47.702Z"
   },
   {
    "duration": 5,
    "start_time": "2024-12-19T18:03:47.713Z"
   },
   {
    "duration": 7,
    "start_time": "2024-12-19T18:03:47.720Z"
   },
   {
    "duration": 635,
    "start_time": "2024-12-19T18:03:47.728Z"
   },
   {
    "duration": 408,
    "start_time": "2024-12-19T18:03:48.374Z"
   },
   {
    "duration": 5,
    "start_time": "2024-12-19T18:03:48.783Z"
   },
   {
    "duration": 131,
    "start_time": "2024-12-19T18:03:48.790Z"
   },
   {
    "duration": 5,
    "start_time": "2024-12-19T18:03:48.924Z"
   },
   {
    "duration": 122,
    "start_time": "2024-12-19T18:03:48.932Z"
   },
   {
    "duration": 6,
    "start_time": "2024-12-19T18:03:49.055Z"
   },
   {
    "duration": 7,
    "start_time": "2024-12-19T18:03:49.062Z"
   },
   {
    "duration": 7,
    "start_time": "2024-12-19T18:03:49.070Z"
   },
   {
    "duration": 31,
    "start_time": "2024-12-19T18:03:49.079Z"
   },
   {
    "duration": 12,
    "start_time": "2024-12-19T18:06:42.511Z"
   },
   {
    "duration": 4,
    "start_time": "2024-12-19T18:06:54.047Z"
   },
   {
    "duration": 860,
    "start_time": "2024-12-19T18:25:22.539Z"
   },
   {
    "duration": 120313,
    "start_time": "2024-12-19T18:39:36.108Z"
   },
   {
    "duration": 29,
    "start_time": "2024-12-19T18:51:27.551Z"
   },
   {
    "duration": 9,
    "start_time": "2024-12-19T19:22:24.262Z"
   },
   {
    "duration": 27,
    "start_time": "2024-12-19T19:27:24.398Z"
   },
   {
    "duration": 274,
    "start_time": "2024-12-19T19:31:00.471Z"
   },
   {
    "duration": 15,
    "start_time": "2024-12-19T19:49:01.403Z"
   },
   {
    "duration": 4,
    "start_time": "2024-12-19T19:49:19.231Z"
   },
   {
    "duration": 17,
    "start_time": "2024-12-19T19:49:19.238Z"
   },
   {
    "duration": 13,
    "start_time": "2024-12-19T19:49:19.257Z"
   },
   {
    "duration": 11,
    "start_time": "2024-12-19T19:49:19.273Z"
   },
   {
    "duration": 10,
    "start_time": "2024-12-19T19:49:19.286Z"
   },
   {
    "duration": 3,
    "start_time": "2024-12-19T19:49:19.310Z"
   },
   {
    "duration": 3,
    "start_time": "2024-12-19T19:49:19.315Z"
   },
   {
    "duration": 8,
    "start_time": "2024-12-19T19:49:19.320Z"
   },
   {
    "duration": 3,
    "start_time": "2024-12-19T19:49:19.330Z"
   },
   {
    "duration": 3,
    "start_time": "2024-12-19T19:49:19.337Z"
   },
   {
    "duration": 6,
    "start_time": "2024-12-19T19:49:19.341Z"
   },
   {
    "duration": 168,
    "start_time": "2024-12-19T19:49:19.349Z"
   },
   {
    "duration": 113,
    "start_time": "2024-12-19T19:49:19.519Z"
   },
   {
    "duration": 6,
    "start_time": "2024-12-19T19:49:19.635Z"
   },
   {
    "duration": 4,
    "start_time": "2024-12-19T19:49:19.642Z"
   },
   {
    "duration": 7,
    "start_time": "2024-12-19T19:49:19.648Z"
   },
   {
    "duration": 631,
    "start_time": "2024-12-19T19:49:19.657Z"
   },
   {
    "duration": 321,
    "start_time": "2024-12-19T19:49:20.289Z"
   },
   {
    "duration": 5,
    "start_time": "2024-12-19T19:49:20.612Z"
   },
   {
    "duration": 139,
    "start_time": "2024-12-19T19:49:20.619Z"
   },
   {
    "duration": 6,
    "start_time": "2024-12-19T19:49:20.760Z"
   },
   {
    "duration": 124,
    "start_time": "2024-12-19T19:49:20.769Z"
   },
   {
    "duration": 14,
    "start_time": "2024-12-19T19:49:20.895Z"
   },
   {
    "duration": 9,
    "start_time": "2024-12-19T19:49:20.910Z"
   },
   {
    "duration": 7,
    "start_time": "2024-12-19T19:49:20.921Z"
   },
   {
    "duration": 8,
    "start_time": "2024-12-19T19:49:20.930Z"
   },
   {
    "duration": 10,
    "start_time": "2024-12-19T19:49:20.941Z"
   },
   {
    "duration": 3,
    "start_time": "2024-12-19T19:49:20.955Z"
   },
   {
    "duration": 891,
    "start_time": "2024-12-19T19:49:20.960Z"
   },
   {
    "duration": 123353,
    "start_time": "2024-12-19T19:49:21.853Z"
   },
   {
    "duration": 46,
    "start_time": "2024-12-19T19:51:25.209Z"
   },
   {
    "duration": 57,
    "start_time": "2024-12-19T19:51:25.257Z"
   },
   {
    "duration": 104,
    "start_time": "2024-12-19T19:51:25.316Z"
   },
   {
    "duration": 280,
    "start_time": "2024-12-19T19:51:25.422Z"
   },
   {
    "duration": 21,
    "start_time": "2024-12-19T19:51:25.704Z"
   },
   {
    "duration": 25,
    "start_time": "2024-12-19T20:45:14.203Z"
   },
   {
    "duration": 805,
    "start_time": "2024-12-19T20:51:14.126Z"
   },
   {
    "duration": 290,
    "start_time": "2024-12-19T20:56:32.825Z"
   },
   {
    "duration": 21,
    "start_time": "2024-12-19T21:04:22.057Z"
   },
   {
    "duration": 75686,
    "start_time": "2024-12-19T21:08:42.222Z"
   },
   {
    "duration": 3,
    "start_time": "2024-12-19T21:11:50.136Z"
   },
   {
    "duration": 21,
    "start_time": "2024-12-19T21:12:35.342Z"
   },
   {
    "duration": 20,
    "start_time": "2024-12-19T21:15:08.405Z"
   },
   {
    "duration": 11,
    "start_time": "2024-12-19T21:17:45.557Z"
   },
   {
    "duration": 3,
    "start_time": "2024-12-19T21:29:40.015Z"
   },
   {
    "duration": 14,
    "start_time": "2024-12-19T21:32:31.225Z"
   },
   {
    "duration": 4,
    "start_time": "2024-12-19T21:39:10.643Z"
   },
   {
    "duration": 277,
    "start_time": "2024-12-19T21:40:31.801Z"
   },
   {
    "duration": 60,
    "start_time": "2024-12-19T21:41:34.376Z"
   },
   {
    "duration": 52,
    "start_time": "2024-12-19T21:41:48.092Z"
   },
   {
    "duration": 16,
    "start_time": "2024-12-19T21:45:35.081Z"
   },
   {
    "duration": 4,
    "start_time": "2024-12-19T21:47:58.320Z"
   },
   {
    "duration": 10,
    "start_time": "2024-12-19T21:48:08.861Z"
   },
   {
    "duration": 43,
    "start_time": "2024-12-19T21:48:26.543Z"
   },
   {
    "duration": 4,
    "start_time": "2024-12-19T21:50:01.411Z"
   },
   {
    "duration": 11,
    "start_time": "2024-12-19T21:50:16.027Z"
   },
   {
    "duration": 43,
    "start_time": "2024-12-19T21:52:34.968Z"
   },
   {
    "duration": 9,
    "start_time": "2024-12-19T21:53:22.800Z"
   },
   {
    "duration": 2676,
    "start_time": "2024-12-19T22:38:50.043Z"
   },
   {
    "duration": 27,
    "start_time": "2024-12-19T22:38:52.721Z"
   },
   {
    "duration": 13,
    "start_time": "2024-12-19T22:38:52.749Z"
   },
   {
    "duration": 9,
    "start_time": "2024-12-19T22:38:52.764Z"
   },
   {
    "duration": 9,
    "start_time": "2024-12-19T22:38:52.776Z"
   },
   {
    "duration": 4,
    "start_time": "2024-12-19T22:38:52.788Z"
   },
   {
    "duration": 4,
    "start_time": "2024-12-19T22:38:52.794Z"
   },
   {
    "duration": 9,
    "start_time": "2024-12-19T22:38:52.799Z"
   },
   {
    "duration": 5,
    "start_time": "2024-12-19T22:38:52.842Z"
   },
   {
    "duration": 4,
    "start_time": "2024-12-19T22:38:52.848Z"
   },
   {
    "duration": 4,
    "start_time": "2024-12-19T22:38:52.854Z"
   },
   {
    "duration": 200,
    "start_time": "2024-12-19T22:38:52.860Z"
   },
   {
    "duration": 94,
    "start_time": "2024-12-19T22:38:53.062Z"
   },
   {
    "duration": 4,
    "start_time": "2024-12-19T22:38:53.161Z"
   },
   {
    "duration": 5,
    "start_time": "2024-12-19T22:38:53.166Z"
   },
   {
    "duration": 7,
    "start_time": "2024-12-19T22:38:53.173Z"
   },
   {
    "duration": 599,
    "start_time": "2024-12-19T22:38:53.183Z"
   },
   {
    "duration": 315,
    "start_time": "2024-12-19T22:38:53.784Z"
   },
   {
    "duration": 4,
    "start_time": "2024-12-19T22:38:54.101Z"
   },
   {
    "duration": 133,
    "start_time": "2024-12-19T22:38:54.107Z"
   },
   {
    "duration": 5,
    "start_time": "2024-12-19T22:38:54.245Z"
   },
   {
    "duration": 181,
    "start_time": "2024-12-19T22:38:54.252Z"
   },
   {
    "duration": 8,
    "start_time": "2024-12-19T22:38:54.435Z"
   },
   {
    "duration": 6,
    "start_time": "2024-12-19T22:38:54.444Z"
   },
   {
    "duration": 7,
    "start_time": "2024-12-19T22:38:54.452Z"
   },
   {
    "duration": 7,
    "start_time": "2024-12-19T22:38:54.461Z"
   },
   {
    "duration": 10,
    "start_time": "2024-12-19T22:38:54.469Z"
   },
   {
    "duration": 3,
    "start_time": "2024-12-19T22:38:54.480Z"
   },
   {
    "duration": 900,
    "start_time": "2024-12-19T22:38:54.484Z"
   },
   {
    "duration": 120500,
    "start_time": "2024-12-19T22:38:55.386Z"
   },
   {
    "duration": 24,
    "start_time": "2024-12-19T22:40:55.888Z"
   },
   {
    "duration": 29,
    "start_time": "2024-12-19T22:40:55.914Z"
   },
   {
    "duration": 106,
    "start_time": "2024-12-19T22:40:55.944Z"
   },
   {
    "duration": 291,
    "start_time": "2024-12-19T22:40:56.052Z"
   },
   {
    "duration": 10,
    "start_time": "2024-12-19T22:40:56.346Z"
   },
   {
    "duration": 93,
    "start_time": "2024-12-19T22:40:56.358Z"
   },
   {
    "duration": 845,
    "start_time": "2024-12-19T22:40:56.454Z"
   },
   {
    "duration": 290,
    "start_time": "2024-12-19T22:40:57.302Z"
   },
   {
    "duration": 20,
    "start_time": "2024-12-19T22:40:57.594Z"
   },
   {
    "duration": 76099,
    "start_time": "2024-12-19T22:40:57.616Z"
   },
   {
    "duration": 28,
    "start_time": "2024-12-19T22:42:13.721Z"
   },
   {
    "duration": 13,
    "start_time": "2024-12-19T22:42:13.750Z"
   },
   {
    "duration": 4,
    "start_time": "2024-12-19T22:42:13.765Z"
   },
   {
    "duration": 73,
    "start_time": "2024-12-19T22:42:13.770Z"
   },
   {
    "duration": 15,
    "start_time": "2024-12-19T22:42:13.846Z"
   },
   {
    "duration": 25,
    "start_time": "2024-12-19T22:43:19.400Z"
   },
   {
    "duration": 763,
    "start_time": "2024-12-19T22:48:33.355Z"
   },
   {
    "duration": 26,
    "start_time": "2024-12-19T22:53:15.032Z"
   },
   {
    "duration": 6,
    "start_time": "2024-12-19T22:57:44.699Z"
   },
   {
    "duration": 63,
    "start_time": "2024-12-19T23:02:19.630Z"
   },
   {
    "duration": 8,
    "start_time": "2024-12-19T23:08:05.525Z"
   }
  ],
  "kernelspec": {
   "display_name": "Python 3 (ipykernel)",
   "language": "python",
   "name": "python3"
  },
  "language_info": {
   "codemirror_mode": {
    "name": "ipython",
    "version": 3
   },
   "file_extension": ".py",
   "mimetype": "text/x-python",
   "name": "python",
   "nbconvert_exporter": "python",
   "pygments_lexer": "ipython3",
   "version": "3.9.19"
  },
  "toc": {
   "base_numbering": 1,
   "nav_menu": {},
   "number_sections": true,
   "sideBar": true,
   "skip_h1_title": true,
   "title_cell": "Table of Contents",
   "title_sidebar": "Contents",
   "toc_cell": false,
   "toc_position": {},
   "toc_section_display": true,
   "toc_window_display": false
  }
 },
 "nbformat": 4,
 "nbformat_minor": 2
}
